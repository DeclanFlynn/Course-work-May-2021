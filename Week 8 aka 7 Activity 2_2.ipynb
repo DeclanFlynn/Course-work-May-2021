{
 "cells": [
  {
   "cell_type": "markdown",
   "metadata": {},
   "source": [
    "Activity 2.2\n",
    "The parking dataset (https://archive.ics.uci.edu/ml/datasets/Parking+Birmingham#\n",
    "describes the car parking availability for different car parks in Birmingham city center, in the winter of 2016.\n",
    "Birmingham city council wants you to build a model to predict the parking spaces available for the holiday season this year,\n",
    "using a machine learning model.\n",
    "\n",
    "Download and import the dataset into Colab\n",
    "Graph the number of parking spaces available in the Bull Ring carpark over time.\n",
    "Build multiple regression models for the above data, performing a train-test-split to show you model's efficacy. Which model was the strongest?\n",
    "This data was only for a short period of time in winter - can you think of how this model could be extended to all year round?"
   ]
  },
  {
   "cell_type": "code",
   "execution_count": 19,
   "metadata": {},
   "outputs": [],
   "source": [
    "import numpy as np\n",
    "import pandas as pd\n",
    "import matplotlib.pyplot as plt\n",
    "from sklearn.model_selection import train_test_split"
   ]
  },
  {
   "cell_type": "code",
   "execution_count": 20,
   "metadata": {},
   "outputs": [],
   "source": [
    "data = pd.read_csv(\"Car_Park_Block_13.csv\")"
   ]
  },
  {
   "cell_type": "code",
   "execution_count": 21,
   "metadata": {},
   "outputs": [
    {
     "data": {
      "text/html": [
       "<div>\n",
       "<style scoped>\n",
       "    .dataframe tbody tr th:only-of-type {\n",
       "        vertical-align: middle;\n",
       "    }\n",
       "\n",
       "    .dataframe tbody tr th {\n",
       "        vertical-align: top;\n",
       "    }\n",
       "\n",
       "    .dataframe thead th {\n",
       "        text-align: right;\n",
       "    }\n",
       "</style>\n",
       "<table border=\"1\" class=\"dataframe\">\n",
       "  <thead>\n",
       "    <tr style=\"text-align: right;\">\n",
       "      <th></th>\n",
       "      <th>SystemCodeNumber</th>\n",
       "      <th>Capacity</th>\n",
       "      <th>Occupancy</th>\n",
       "      <th>LastUpdated</th>\n",
       "    </tr>\n",
       "  </thead>\n",
       "  <tbody>\n",
       "    <tr>\n",
       "      <th>0</th>\n",
       "      <td>BHMNCPNST01</td>\n",
       "      <td>485</td>\n",
       "      <td>249</td>\n",
       "      <td>04/10/2016 07:59</td>\n",
       "    </tr>\n",
       "    <tr>\n",
       "      <th>1</th>\n",
       "      <td>BHMNCPNST01</td>\n",
       "      <td>485</td>\n",
       "      <td>267</td>\n",
       "      <td>04/10/2016 08:25</td>\n",
       "    </tr>\n",
       "    <tr>\n",
       "      <th>2</th>\n",
       "      <td>BHMNCPNST01</td>\n",
       "      <td>485</td>\n",
       "      <td>278</td>\n",
       "      <td>04/10/2016 08:59</td>\n",
       "    </tr>\n",
       "    <tr>\n",
       "      <th>3</th>\n",
       "      <td>BHMNCPNST01</td>\n",
       "      <td>485</td>\n",
       "      <td>302</td>\n",
       "      <td>04/10/2016 09:32</td>\n",
       "    </tr>\n",
       "    <tr>\n",
       "      <th>4</th>\n",
       "      <td>BHMNCPNST01</td>\n",
       "      <td>485</td>\n",
       "      <td>327</td>\n",
       "      <td>04/10/2016 09:59</td>\n",
       "    </tr>\n",
       "  </tbody>\n",
       "</table>\n",
       "</div>"
      ],
      "text/plain": [
       "  SystemCodeNumber  Capacity  Occupancy       LastUpdated\n",
       "0      BHMNCPNST01       485        249  04/10/2016 07:59\n",
       "1      BHMNCPNST01       485        267  04/10/2016 08:25\n",
       "2      BHMNCPNST01       485        278  04/10/2016 08:59\n",
       "3      BHMNCPNST01       485        302  04/10/2016 09:32\n",
       "4      BHMNCPNST01       485        327  04/10/2016 09:59"
      ]
     },
     "execution_count": 21,
     "metadata": {},
     "output_type": "execute_result"
    }
   ],
   "source": [
    "data.head() #Start 4th October 2016"
   ]
  },
  {
   "cell_type": "code",
   "execution_count": 22,
   "metadata": {},
   "outputs": [
    {
     "data": {
      "text/html": [
       "<div>\n",
       "<style scoped>\n",
       "    .dataframe tbody tr th:only-of-type {\n",
       "        vertical-align: middle;\n",
       "    }\n",
       "\n",
       "    .dataframe tbody tr th {\n",
       "        vertical-align: top;\n",
       "    }\n",
       "\n",
       "    .dataframe thead th {\n",
       "        text-align: right;\n",
       "    }\n",
       "</style>\n",
       "<table border=\"1\" class=\"dataframe\">\n",
       "  <thead>\n",
       "    <tr style=\"text-align: right;\">\n",
       "      <th></th>\n",
       "      <th>SystemCodeNumber</th>\n",
       "      <th>Capacity</th>\n",
       "      <th>Occupancy</th>\n",
       "      <th>LastUpdated</th>\n",
       "    </tr>\n",
       "  </thead>\n",
       "  <tbody>\n",
       "    <tr>\n",
       "      <th>2598</th>\n",
       "      <td>BHMNCPPLS01</td>\n",
       "      <td>450</td>\n",
       "      <td>276</td>\n",
       "      <td>19/12/2016 14:30</td>\n",
       "    </tr>\n",
       "    <tr>\n",
       "      <th>2599</th>\n",
       "      <td>BHMNCPPLS01</td>\n",
       "      <td>450</td>\n",
       "      <td>265</td>\n",
       "      <td>19/12/2016 15:03</td>\n",
       "    </tr>\n",
       "    <tr>\n",
       "      <th>2600</th>\n",
       "      <td>BHMNCPPLS01</td>\n",
       "      <td>450</td>\n",
       "      <td>245</td>\n",
       "      <td>19/12/2016 15:29</td>\n",
       "    </tr>\n",
       "    <tr>\n",
       "      <th>2601</th>\n",
       "      <td>BHMNCPPLS01</td>\n",
       "      <td>450</td>\n",
       "      <td>206</td>\n",
       "      <td>19/12/2016 16:03</td>\n",
       "    </tr>\n",
       "    <tr>\n",
       "      <th>2602</th>\n",
       "      <td>BHMNCPPLS01</td>\n",
       "      <td>450</td>\n",
       "      <td>162</td>\n",
       "      <td>19/12/2016 16:30</td>\n",
       "    </tr>\n",
       "  </tbody>\n",
       "</table>\n",
       "</div>"
      ],
      "text/plain": [
       "     SystemCodeNumber  Capacity  Occupancy       LastUpdated\n",
       "2598      BHMNCPPLS01       450        276  19/12/2016 14:30\n",
       "2599      BHMNCPPLS01       450        265  19/12/2016 15:03\n",
       "2600      BHMNCPPLS01       450        245  19/12/2016 15:29\n",
       "2601      BHMNCPPLS01       450        206  19/12/2016 16:03\n",
       "2602      BHMNCPPLS01       450        162  19/12/2016 16:30"
      ]
     },
     "execution_count": 22,
     "metadata": {},
     "output_type": "execute_result"
    }
   ],
   "source": [
    "data.tail() #We find seasonal shopping week 19th December 2016"
   ]
  },
  {
   "cell_type": "code",
   "execution_count": 23,
   "metadata": {},
   "outputs": [
    {
     "name": "stdout",
     "output_type": "stream",
     "text": [
      "<class 'pandas.core.frame.DataFrame'>\n",
      "RangeIndex: 2603 entries, 0 to 2602\n",
      "Data columns (total 4 columns):\n",
      " #   Column            Non-Null Count  Dtype \n",
      "---  ------            --------------  ----- \n",
      " 0   SystemCodeNumber  2603 non-null   object\n",
      " 1   Capacity          2603 non-null   int64 \n",
      " 2   Occupancy         2603 non-null   int64 \n",
      " 3   LastUpdated       2603 non-null   object\n",
      "dtypes: int64(2), object(2)\n",
      "memory usage: 81.5+ KB\n"
     ]
    }
   ],
   "source": [
    "data.info() #No missing items"
   ]
  },
  {
   "cell_type": "markdown",
   "metadata": {},
   "source": [
    "Initial findings on review of dataset given for car parking in Birmingham UK (I will call car park, blocks of data)\n",
    "Unequal number of timestamps, many more in some car parks than others\n",
    "Count intervals suggest manual counting, no in out count information\n",
    "Start date was a Friday, Collect stopped 19th December 2016, but two blocks have different start end dates\n",
    "Are there residents or cars left in the car park overnight?\n",
    "We have blocks were they park more cars than rated capacity?\n",
    "All appear to open seven days a week\n",
    "Monitoring time 7:55 to 16:35 i.e., 8 hours forty minutes\n",
    "“Others” would suggest aggregation, “Shopping” what’s this?\n",
    "Initial low period in October, mainly after that the seasonal shopping season\n",
    "Normally the Christmas shopping has a rush in early November with a lull and another sprint coming up to Christmas"
   ]
  },
  {
   "attachments": {
    "image-2.png": {
     "image/png": "[encoded data removed]"
    }
   },
   "cell_type": "markdown",
   "metadata": {},
   "source": [
    "Proceed with modelling\n",
    "Due to inconsisencies between blocks, I will select a reasonable, relevant block to build model first. I will use block 13 (BHMNCPNST01), its the largest set of data, the closest it comes to running out of space is 18. It has the most common start-end date. Research on the internet suggests the use of an ARIMA model, which can be found on statmodeles.\n",
    "\n",
    "So we are interested in date-time (LastUpdated) and Occupancy and maybe Capacity later, lets plot LastUpdated v Occupancy\n",
    "Right, a lot of information with a very distinctive jump, so early November? The client has given us this dataset so we will stick with the full time frame, if later we think we need to just use the busy time, lets deal with it then\n",
    "![image-2.png](attachment:image-2.png)"
   ]
  },
  {
   "cell_type": "code",
   "execution_count": 24,
   "metadata": {},
   "outputs": [],
   "source": [
    "X = data[\"LastUpdated\"]\n",
    "Y = data[\"Occupancy\"]"
   ]
  },
  {
   "cell_type": "code",
   "execution_count": 25,
   "metadata": {},
   "outputs": [],
   "source": [
    "#We can manually turn the plot on as required to save processing time\n",
    "#fig, ax = plt.subplots( figsize=(20, 16))\n",
    "#line1 = ax.scatter(X,Y, label='Parking', color = \"black\", lw=0.01,ls='solid')\n",
    "#plt.show()\n",
    "#Issue with plot coming out in reverse order"
   ]
  },
  {
   "cell_type": "code",
   "execution_count": 26,
   "metadata": {},
   "outputs": [],
   "source": [
    "#When making the test data we must have the jump included to Train and Test data set, 65;35 split\n",
    "X_train, X_test, Y_train, Y_test = train_test_split(X, Y, test_size=0.35, random_state=200)"
   ]
  },
  {
   "cell_type": "markdown",
   "metadata": {},
   "source": [
    "Plot both sets to indicate how it delt with jump, I was trying to capture the low period in October into the model so used 65/35"
   ]
  },
  {
   "cell_type": "code",
   "execution_count": 27,
   "metadata": {},
   "outputs": [],
   "source": [
    "#We can manually turn the plot on as required to save processing time\n",
    "#fig, ax = plt.subplots( figsize=(20, 16))\n",
    "#line1 = ax.scatter(X_test,Y_test, label='Parking', color = \"black\", lw=0.01,ls='solid')\n",
    "#plt.show()\n",
    "#Issue with plot coming out in reverse order"
   ]
  },
  {
   "cell_type": "code",
   "execution_count": 28,
   "metadata": {},
   "outputs": [],
   "source": [
    "from scipy.stats import norm\n",
    "import statsmodels.api as sm\n",
    "from datetime import datetime\n",
    "import requests\n"
   ]
  },
  {
   "cell_type": "code",
   "execution_count": 29,
   "metadata": {},
   "outputs": [
    {
     "data": {
      "image/png": "[encoded data removed]",
      "text/plain": [
       "<Figure size 432x288 with 1 Axes>"
      ]
     },
     "metadata": {
      "needs_background": "light"
     },
     "output_type": "display_data"
    }
   ],
   "source": [
    "# Set the frequency\n",
    "data.index.freq=\"LastUpdated\"\n",
    "parking = data['Occupancy']\n",
    "fig, ax = plt.subplots()\n",
    "ax = parking.plot(ax=ax)\n",
    "#Plot graf to indicat seasonality"
   ]
  },
  {
   "cell_type": "code",
   "execution_count": 30,
   "metadata": {},
   "outputs": [],
   "source": [
    "#Because we have seasonal data I will use  SARIMAX"
   ]
  },
  {
   "cell_type": "code",
   "execution_count": 31,
   "metadata": {},
   "outputs": [],
   "source": [
    "# Set the frequency\n",
    "X_train.index.freq=X_train"
   ]
  },
  {
   "cell_type": "code",
   "execution_count": 32,
   "metadata": {},
   "outputs": [
    {
     "name": "stderr",
     "output_type": "stream",
     "text": [
      "C:\\Users\\decla\\anaconda3\\lib\\site-packages\\statsmodels\\tsa\\base\\tsa_model.py:578: ValueWarning: An unsupported index was provided and will be ignored when e.g. forecasting.\n",
      "  warnings.warn('An unsupported index was provided and will be'\n",
      "C:\\Users\\decla\\anaconda3\\lib\\site-packages\\statsmodels\\tsa\\base\\tsa_model.py:578: ValueWarning: An unsupported index was provided and will be ignored when e.g. forecasting.\n",
      "  warnings.warn('An unsupported index was provided and will be'\n"
     ]
    },
    {
     "name": "stdout",
     "output_type": "stream",
     "text": [
      "                               SARIMAX Results                                \n",
      "==============================================================================\n",
      "Dep. Variable:              Occupancy   No. Observations:                 1691\n",
      "Model:               SARIMAX(1, 1, 1)   Log Likelihood              -10404.578\n",
      "Date:                Sun, 13 Jun 2021   AIC                          20817.156\n",
      "Time:                        19:35:08   BIC                          20838.885\n",
      "Sample:                             0   HQIC                         20825.202\n",
      "                               - 1691                                         \n",
      "Covariance Type:                  opg                                         \n",
      "==============================================================================\n",
      "                 coef    std err          z      P>|z|      [0.025      0.975]\n",
      "------------------------------------------------------------------------------\n",
      "intercept     -0.0027      0.010     -0.286      0.775      -0.022       0.016\n",
      "ar.L1          0.0012      0.024      0.050      0.960      -0.047       0.049\n",
      "ma.L1         -0.9998      0.019    -51.730      0.000      -1.038      -0.962\n",
      "sigma2      1.298e+04    802.034     16.181      0.000    1.14e+04    1.45e+04\n",
      "===================================================================================\n",
      "Ljung-Box (L1) (Q):                   0.00   Jarque-Bera (JB):               121.05\n",
      "Prob(Q):                              0.98   Prob(JB):                         0.00\n",
      "Heteroskedasticity (H):               0.95   Skew:                             0.09\n",
      "Prob(H) (two-sided):                  0.57   Kurtosis:                         1.70\n",
      "===================================================================================\n",
      "\n",
      "Warnings:\n",
      "[1] Covariance matrix calculated using the outer product of gradients (complex-step).\n"
     ]
    }
   ],
   "source": [
    "# Fit the model\n",
    "mod = sm.tsa.statespace.SARIMAX(Y_train, trend='c', order=(1,1,1))\n",
    "res = mod.fit(disp=False)\n",
    "print(res.summary())"
   ]
  },
  {
   "cell_type": "markdown",
   "metadata": {},
   "source": [
    "Confession time, I struggled to find any useful information on the internet to help me undertand the output above\n",
    "So I need to do more research. I missed the comment to do the Bull Ring"
   ]
  },
  {
   "cell_type": "markdown",
   "metadata": {},
   "source": [
    "What next?\n",
    "Why does the plot print in reverse order?\n",
    "Understand the dataset better, what is the block “shopping”? “othersxxxxs”, where are these car parks? are the main parks in the centre of the city? are there Park and Rides, large travel terminus, train station?\n",
    "Decide what are the blocks, if real car parks, add more car parks to the model\n",
    "Are there tweaks that can be made to the ARIMA model?\n"
   ]
  }
 ],
 "metadata": {
  "kernelspec": {
   "display_name": "Python 3",
   "language": "python",
   "name": "python3"
  },
  "language_info": {
   "codemirror_mode": {
    "name": "ipython",
    "version": 3
   },
   "file_extension": ".py",
   "mimetype": "text/x-python",
   "name": "python",
   "nbconvert_exporter": "python",
   "pygments_lexer": "ipython3",
   "version": "3.8.10"
  }
 },
 "nbformat": 4,
 "nbformat_minor": 4
}
