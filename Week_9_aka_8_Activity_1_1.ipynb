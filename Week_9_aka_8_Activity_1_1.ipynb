{
 "cells": [
  {
   "cell_type": "markdown",
   "id": "e9fb34ae",
   "metadata": {},
   "source": [
    "Activity 1.1\n",
    "It's the last time we're going to use our good friend, the iris dataset - but deep learning has so many things that can go wrong, if we have a familiar dataset it can be very helpful! Build a fully connected deep learning model for predicting the species of a iris plant given its attributes. Perform proper scaling, train/test splitting, and find the best metric to use to measure performance (hint: this is a classification task so mean squared error won't work!)."
   ]
  },
  {
   "cell_type": "code",
   "execution_count": 1,
   "id": "68459541",
   "metadata": {},
   "outputs": [],
   "source": [
    "# Import tensorflow and keras, you need condo for this\n",
    "import tensorflow as tf\n",
    "from tensorflow import keras\n",
    "from tensorflow.keras.layers import Dense, Conv2D, Flatten, MaxPooling2D, InputLayer\n",
    "from tensorflow.keras.utils import to_categorical\n",
    "\n",
    "# Commonly used modules\n",
    "import numpy as np\n",
    "import pandas as pd\n",
    "import matplotlib.pyplot as plt\n",
    "\n",
    "# sklearn tools\n",
    "from sklearn.preprocessing import MinMaxScaler\n",
    "from sklearn.model_selection import train_test_split\n",
    "from sklearn.metrics import mean_absolute_error, f1_score"
   ]
  },
  {
   "cell_type": "code",
   "execution_count": 2,
   "id": "5b683039",
   "metadata": {},
   "outputs": [],
   "source": [
    "data = pd.read_csv('iris.csv')"
   ]
  },
  {
   "cell_type": "code",
   "execution_count": 3,
   "id": "29a78231",
   "metadata": {},
   "outputs": [
    {
     "name": "stdout",
     "output_type": "stream",
     "text": [
      "<class 'pandas.core.frame.DataFrame'>\n",
      "RangeIndex: 150 entries, 0 to 149\n",
      "Data columns (total 6 columns):\n",
      " #   Column        Non-Null Count  Dtype  \n",
      "---  ------        --------------  -----  \n",
      " 0   Sepal.Length  150 non-null    float64\n",
      " 1   Sepal.Width   150 non-null    float64\n",
      " 2   Petal.Length  150 non-null    float64\n",
      " 3   Petal.Width   150 non-null    float64\n",
      " 4   Species       150 non-null    object \n",
      " 5   labels        150 non-null    int64  \n",
      "dtypes: float64(4), int64(1), object(1)\n",
      "memory usage: 7.2+ KB\n"
     ]
    }
   ],
   "source": [
    "data.info()"
   ]
  },
  {
   "cell_type": "code",
   "execution_count": 4,
   "id": "550aaced",
   "metadata": {},
   "outputs": [
    {
     "data": {
      "text/html": [
       "<div>\n",
       "<style scoped>\n",
       "    .dataframe tbody tr th:only-of-type {\n",
       "        vertical-align: middle;\n",
       "    }\n",
       "\n",
       "    .dataframe tbody tr th {\n",
       "        vertical-align: top;\n",
       "    }\n",
       "\n",
       "    .dataframe thead th {\n",
       "        text-align: right;\n",
       "    }\n",
       "</style>\n",
       "<table border=\"1\" class=\"dataframe\">\n",
       "  <thead>\n",
       "    <tr style=\"text-align: right;\">\n",
       "      <th></th>\n",
       "      <th>Sepal.Length</th>\n",
       "      <th>Sepal.Width</th>\n",
       "      <th>Petal.Length</th>\n",
       "      <th>Petal.Width</th>\n",
       "      <th>Species</th>\n",
       "      <th>labels</th>\n",
       "    </tr>\n",
       "  </thead>\n",
       "  <tbody>\n",
       "    <tr>\n",
       "      <th>0</th>\n",
       "      <td>5.1</td>\n",
       "      <td>3.5</td>\n",
       "      <td>1.4</td>\n",
       "      <td>0.2</td>\n",
       "      <td>setosa</td>\n",
       "      <td>1</td>\n",
       "    </tr>\n",
       "    <tr>\n",
       "      <th>1</th>\n",
       "      <td>4.9</td>\n",
       "      <td>3.0</td>\n",
       "      <td>1.4</td>\n",
       "      <td>0.2</td>\n",
       "      <td>setosa</td>\n",
       "      <td>1</td>\n",
       "    </tr>\n",
       "    <tr>\n",
       "      <th>2</th>\n",
       "      <td>4.7</td>\n",
       "      <td>3.2</td>\n",
       "      <td>1.3</td>\n",
       "      <td>0.2</td>\n",
       "      <td>setosa</td>\n",
       "      <td>1</td>\n",
       "    </tr>\n",
       "    <tr>\n",
       "      <th>3</th>\n",
       "      <td>4.6</td>\n",
       "      <td>3.1</td>\n",
       "      <td>1.5</td>\n",
       "      <td>0.2</td>\n",
       "      <td>setosa</td>\n",
       "      <td>1</td>\n",
       "    </tr>\n",
       "    <tr>\n",
       "      <th>4</th>\n",
       "      <td>5.0</td>\n",
       "      <td>3.6</td>\n",
       "      <td>1.4</td>\n",
       "      <td>0.2</td>\n",
       "      <td>setosa</td>\n",
       "      <td>1</td>\n",
       "    </tr>\n",
       "  </tbody>\n",
       "</table>\n",
       "</div>"
      ],
      "text/plain": [
       "   Sepal.Length  Sepal.Width  Petal.Length  Petal.Width Species  labels\n",
       "0           5.1          3.5           1.4          0.2  setosa       1\n",
       "1           4.9          3.0           1.4          0.2  setosa       1\n",
       "2           4.7          3.2           1.3          0.2  setosa       1\n",
       "3           4.6          3.1           1.5          0.2  setosa       1\n",
       "4           5.0          3.6           1.4          0.2  setosa       1"
      ]
     },
     "execution_count": 4,
     "metadata": {},
     "output_type": "execute_result"
    }
   ],
   "source": [
    "data.head()"
   ]
  },
  {
   "cell_type": "code",
   "execution_count": 5,
   "id": "896355ad",
   "metadata": {},
   "outputs": [],
   "source": [
    "y = data['labels'].values\n",
    "y = y.reshape(-1, 1)\n",
    "x = data.values[0:,0:3]\n",
    "\n",
    "x_scaler = MinMaxScaler()\n",
    "x = x_scaler.fit_transform(x)\n",
    "\n",
    "# It is very common to force it to have one sample per line in this way\n",
    "x = x.reshape(-1, 1, 3)\n",
    "\n",
    "y_scaler = MinMaxScaler()\n",
    "y = y_scaler.fit_transform(y)\n",
    "#print(x,y)"
   ]
  },
  {
   "cell_type": "code",
   "execution_count": 6,
   "id": "36ef0495",
   "metadata": {},
   "outputs": [
    {
     "name": "stdout",
     "output_type": "stream",
     "text": [
      "(120, 1, 3)\n"
     ]
    }
   ],
   "source": [
    "x_train, x_test, y_train, y_test = train_test_split(x, y, test_size=0.2)\n",
    "x_train =x_train.astype('float32')\n",
    "x_test = x_test.astype('float32')\n",
    "print(x_train.shape)"
   ]
  },
  {
   "cell_type": "code",
   "execution_count": 7,
   "id": "e5d85c9f",
   "metadata": {},
   "outputs": [
    {
     "name": "stdout",
     "output_type": "stream",
     "text": [
      "Model: \"sequential\"\n",
      "_________________________________________________________________\n",
      "Layer (type)                 Output Shape              Param #   \n",
      "=================================================================\n",
      "dense (Dense)                (None, 1, 8)              32        \n",
      "_________________________________________________________________\n",
      "dense_1 (Dense)              (None, 1, 8)              72        \n",
      "_________________________________________________________________\n",
      "dense_2 (Dense)              (None, 1, 1)              9         \n",
      "=================================================================\n",
      "Total params: 113\n",
      "Trainable params: 113\n",
      "Non-trainable params: 0\n",
      "_________________________________________________________________\n"
     ]
    }
   ],
   "source": [
    "model = keras.Sequential(\n",
    "    [\n",
    "        Dense(8, activation='relu', input_shape=(1, 3)),\n",
    "        Dense(8, activation='relu'),\n",
    "        Dense(1)\n",
    "    ]\n",
    ")\n",
    "\n",
    "# Two callback functions to control the learning rate of the model. Will be clear\n",
    "# later!\n",
    "lr_reduct = tf.keras.callbacks.ReduceLROnPlateau(verbose=1)\n",
    "early_stopping = tf.keras.callbacks.EarlyStopping(patience=20, verbose=1)\n",
    "\n",
    "# Actually compile the model with the optimizer function, loss function, any\n",
    "# metrics we want to track etc.\n",
    "model.compile(optimizer=tf.keras.optimizers.Adam(), loss='mse', metrics=['mae'])\n",
    "model.summary()\n"
   ]
  },
  {
   "cell_type": "code",
   "execution_count": 8,
   "id": "c982cf9c",
   "metadata": {},
   "outputs": [],
   "source": [
    "history = model.fit(x_train, y_train, epochs=15, batch_size=5, validation_data=(x_test, y_test), verbose=0)\n",
    "#history = model.fit(x_train, \n",
    "                    #y_train, \n",
    "                    #epochs=10, \n",
    "                    #verbose=1, \n",
    "                    #batch_size=1, \n",
    "                    #validation_split=0.2,\n",
    "                    #callbacks=[lr_reduct, early_stopping])"
   ]
  },
  {
   "cell_type": "code",
   "execution_count": 9,
   "id": "770fe218",
   "metadata": {},
   "outputs": [
    {
     "data": {
      "text/html": [
       "<div>\n",
       "<style scoped>\n",
       "    .dataframe tbody tr th:only-of-type {\n",
       "        vertical-align: middle;\n",
       "    }\n",
       "\n",
       "    .dataframe tbody tr th {\n",
       "        vertical-align: top;\n",
       "    }\n",
       "\n",
       "    .dataframe thead th {\n",
       "        text-align: right;\n",
       "    }\n",
       "</style>\n",
       "<table border=\"1\" class=\"dataframe\">\n",
       "  <thead>\n",
       "    <tr style=\"text-align: right;\">\n",
       "      <th></th>\n",
       "      <th>loss</th>\n",
       "      <th>mae</th>\n",
       "      <th>val_loss</th>\n",
       "      <th>val_mae</th>\n",
       "    </tr>\n",
       "  </thead>\n",
       "  <tbody>\n",
       "    <tr>\n",
       "      <th>0</th>\n",
       "      <td>0.291281</td>\n",
       "      <td>0.433152</td>\n",
       "      <td>0.420848</td>\n",
       "      <td>0.584102</td>\n",
       "    </tr>\n",
       "    <tr>\n",
       "      <th>1</th>\n",
       "      <td>0.190027</td>\n",
       "      <td>0.324118</td>\n",
       "      <td>0.311435</td>\n",
       "      <td>0.497714</td>\n",
       "    </tr>\n",
       "    <tr>\n",
       "      <th>2</th>\n",
       "      <td>0.140238</td>\n",
       "      <td>0.290209</td>\n",
       "      <td>0.230693</td>\n",
       "      <td>0.423766</td>\n",
       "    </tr>\n",
       "    <tr>\n",
       "      <th>3</th>\n",
       "      <td>0.104620</td>\n",
       "      <td>0.254499</td>\n",
       "      <td>0.171137</td>\n",
       "      <td>0.357016</td>\n",
       "    </tr>\n",
       "    <tr>\n",
       "      <th>4</th>\n",
       "      <td>0.078218</td>\n",
       "      <td>0.214579</td>\n",
       "      <td>0.128123</td>\n",
       "      <td>0.299799</td>\n",
       "    </tr>\n",
       "    <tr>\n",
       "      <th>5</th>\n",
       "      <td>0.058499</td>\n",
       "      <td>0.179895</td>\n",
       "      <td>0.096546</td>\n",
       "      <td>0.252523</td>\n",
       "    </tr>\n",
       "    <tr>\n",
       "      <th>6</th>\n",
       "      <td>0.044569</td>\n",
       "      <td>0.157551</td>\n",
       "      <td>0.072488</td>\n",
       "      <td>0.217040</td>\n",
       "    </tr>\n",
       "    <tr>\n",
       "      <th>7</th>\n",
       "      <td>0.034664</td>\n",
       "      <td>0.139680</td>\n",
       "      <td>0.054617</td>\n",
       "      <td>0.191308</td>\n",
       "    </tr>\n",
       "    <tr>\n",
       "      <th>8</th>\n",
       "      <td>0.028549</td>\n",
       "      <td>0.131106</td>\n",
       "      <td>0.045820</td>\n",
       "      <td>0.176301</td>\n",
       "    </tr>\n",
       "    <tr>\n",
       "      <th>9</th>\n",
       "      <td>0.025501</td>\n",
       "      <td>0.128101</td>\n",
       "      <td>0.038282</td>\n",
       "      <td>0.163335</td>\n",
       "    </tr>\n",
       "    <tr>\n",
       "      <th>10</th>\n",
       "      <td>0.023703</td>\n",
       "      <td>0.125783</td>\n",
       "      <td>0.033614</td>\n",
       "      <td>0.153073</td>\n",
       "    </tr>\n",
       "    <tr>\n",
       "      <th>11</th>\n",
       "      <td>0.022271</td>\n",
       "      <td>0.121795</td>\n",
       "      <td>0.031357</td>\n",
       "      <td>0.147434</td>\n",
       "    </tr>\n",
       "    <tr>\n",
       "      <th>12</th>\n",
       "      <td>0.021888</td>\n",
       "      <td>0.122670</td>\n",
       "      <td>0.029407</td>\n",
       "      <td>0.142830</td>\n",
       "    </tr>\n",
       "    <tr>\n",
       "      <th>13</th>\n",
       "      <td>0.020936</td>\n",
       "      <td>0.118981</td>\n",
       "      <td>0.026964</td>\n",
       "      <td>0.136968</td>\n",
       "    </tr>\n",
       "    <tr>\n",
       "      <th>14</th>\n",
       "      <td>0.020737</td>\n",
       "      <td>0.117521</td>\n",
       "      <td>0.027088</td>\n",
       "      <td>0.136651</td>\n",
       "    </tr>\n",
       "  </tbody>\n",
       "</table>\n",
       "</div>"
      ],
      "text/plain": [
       "        loss       mae  val_loss   val_mae\n",
       "0   0.291281  0.433152  0.420848  0.584102\n",
       "1   0.190027  0.324118  0.311435  0.497714\n",
       "2   0.140238  0.290209  0.230693  0.423766\n",
       "3   0.104620  0.254499  0.171137  0.357016\n",
       "4   0.078218  0.214579  0.128123  0.299799\n",
       "5   0.058499  0.179895  0.096546  0.252523\n",
       "6   0.044569  0.157551  0.072488  0.217040\n",
       "7   0.034664  0.139680  0.054617  0.191308\n",
       "8   0.028549  0.131106  0.045820  0.176301\n",
       "9   0.025501  0.128101  0.038282  0.163335\n",
       "10  0.023703  0.125783  0.033614  0.153073\n",
       "11  0.022271  0.121795  0.031357  0.147434\n",
       "12  0.021888  0.122670  0.029407  0.142830\n",
       "13  0.020936  0.118981  0.026964  0.136968\n",
       "14  0.020737  0.117521  0.027088  0.136651"
      ]
     },
     "execution_count": 9,
     "metadata": {},
     "output_type": "execute_result"
    }
   ],
   "source": [
    "history_df = pd.DataFrame(history.history)\n",
    "history_df"
   ]
  },
  {
   "cell_type": "code",
   "execution_count": 10,
   "id": "249c7164",
   "metadata": {},
   "outputs": [
    {
     "data": {
      "image/png": "[encoded data removed]",
      "text/plain": [
       "<Figure size 720x720 with 2 Axes>"
      ]
     },
     "metadata": {
      "needs_background": "light"
     },
     "output_type": "display_data"
    }
   ],
   "source": [
    "fig, (ax1, ax2) = plt.subplots(2, 1, figsize=(10, 10))\n",
    "\n",
    "ax1.plot(history_df['loss'], label=\"Training Loss/MSE\")\n",
    "ax1.plot(history_df['val_loss'], label='Validation Loss/MSE')\n",
    "ax1.legend()\n",
    "\n",
    "ax2.plot(history_df['mae'], label=\"Training MAE\")\n",
    "ax2.plot(history_df['val_mae'], label=\"Validation MAE\")\n",
    "ax2.legend()\n",
    "\n",
    "plt.show()"
   ]
  },
  {
   "cell_type": "code",
   "execution_count": 11,
   "id": "3fdc5431",
   "metadata": {},
   "outputs": [],
   "source": [
    "y_predict = model.predict(x_test)"
   ]
  },
  {
   "cell_type": "code",
   "execution_count": 12,
   "id": "c720aeba",
   "metadata": {},
   "outputs": [
    {
     "name": "stdout",
     "output_type": "stream",
     "text": [
      "RMSE for test dataset: 0.2733024974664052\n"
     ]
    }
   ],
   "source": [
    "# Since our data was transformed, we have to transform it back to\n",
    "# something that makes sense.\n",
    "y_predict = y_scaler.inverse_transform(y_predict.reshape(-1, 1))\n",
    "y_test = y_scaler.inverse_transform(y_test.reshape(-1, 1))\n",
    "\n",
    "# Here we use mean absolute error to get an intepretable value.\n",
    "print(\"RMSE for test dataset:\", mean_absolute_error(y_predict, y_test))"
   ]
  },
  {
   "cell_type": "code",
   "execution_count": null,
   "id": "dd32d667",
   "metadata": {},
   "outputs": [],
   "source": [
    "#Can't get RMSE to work"
   ]
  }
 ],
 "metadata": {
  "kernelspec": {
   "display_name": "Python 3",
   "language": "python",
   "name": "python3"
  },
  "language_info": {
   "codemirror_mode": {
    "name": "ipython",
    "version": 3
   },
   "file_extension": ".py",
   "mimetype": "text/x-python",
   "name": "python",
   "nbconvert_exporter": "python",
   "pygments_lexer": "ipython3",
   "version": "3.8.10"
  }
 },
 "nbformat": 4,
 "nbformat_minor": 5
}
