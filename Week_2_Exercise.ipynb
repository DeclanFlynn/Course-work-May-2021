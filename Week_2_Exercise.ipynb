{
  "nbformat": 4,
  "nbformat_minor": 0,
  "metadata": {
    "colab": {
      "name": "Week 2 Exercise.ipynb",
      "provenance": [],
      "collapsed_sections": [
        "BFyXVGj408tX"
      ],
      "authorship_tag": "ABX9TyNxT5ZKCRw6OQJFuBe1n6PU",
      "include_colab_link": true
    },
    "kernelspec": {
      "name": "python3",
      "display_name": "Python 3"
    },
    "language_info": {
      "name": "python"
    }
  },
  "cells": [
    {
      "cell_type": "markdown",
      "metadata": {
        "id": "view-in-github",
        "colab_type": "text"
      },
      "source": [
        "<a href=\"https://colab.research.google.com/github/DeclanFlynn/Course-work-May-2021/blob/main/Week_2_Exercise.ipynb\" target=\"_parent\"><img src=\"https://colab.research.google.com/assets/colab-badge.svg\" alt=\"Open In Colab\"/></a>"
      ]
    },
    {
      "cell_type": "markdown",
      "metadata": {
        "id": "dMzFY7-J0p2x"
      },
      "source": [
        "**Choosing a new home by set of criteria detailed below**"
      ]
    },
    {
      "cell_type": "code",
      "metadata": {
        "id": "HHiBttSkSPMa"
      },
      "source": [
        "import pandas as pd"
      ],
      "execution_count": null,
      "outputs": []
    },
    {
      "cell_type": "markdown",
      "metadata": {
        "id": "BFyXVGj408tX"
      },
      "source": [
        "Import data file from Github on house information for the area of interest"
      ]
    },
    {
      "cell_type": "code",
      "metadata": {
        "id": "CCcRgngzNk36",
        "colab": {
          "base_uri": "https://localhost:8080/"
        },
        "outputId": "f9044d11-cf00-45ae-8771-408b2eaf38e6"
      },
      "source": [
        "!wget  \"https://raw.githubusercontent.com/stmball/PracticalPython/main/Week_1/housing.csv\"\n"
      ],
      "execution_count": null,
      "outputs": [
        {
          "output_type": "stream",
          "text": [
            "--2021-05-03 13:02:24--  https://raw.githubusercontent.com/stmball/PracticalPython/main/Week_1/housing.csv\n",
            "Resolving raw.githubusercontent.com (raw.githubusercontent.com)... 185.199.108.133, 185.199.109.133, 185.199.110.133, ...\n",
            "Connecting to raw.githubusercontent.com (raw.githubusercontent.com)|185.199.108.133|:443... connected.\n",
            "HTTP request sent, awaiting response... 200 OK\n",
            "Length: 24632 (24K) [text/plain]\n",
            "Saving to: ‘housing.csv.1’\n",
            "\n",
            "\rhousing.csv.1         0%[                    ]       0  --.-KB/s               \rhousing.csv.1       100%[===================>]  24.05K  --.-KB/s    in 0.001s  \n",
            "\n",
            "2021-05-03 13:02:24 (38.7 MB/s) - ‘housing.csv.1’ saved [24632/24632]\n",
            "\n"
          ],
          "name": "stdout"
        }
      ]
    },
    {
      "cell_type": "code",
      "metadata": {
        "colab": {
          "base_uri": "https://localhost:8080/",
          "height": 204
        },
        "id": "7VZzk7ybT2Hx",
        "outputId": "e47753e9-bd60-444f-cc40-a8654e139a3c"
      },
      "source": [
        "houses = pd.read_csv(\"./housing.csv\", index_col=0)\n",
        "houses.head()"
      ],
      "execution_count": null,
      "outputs": [
        {
          "output_type": "execute_result",
          "data": {
            "text/html": [
              "<div>\n",
              "<style scoped>\n",
              "    .dataframe tbody tr th:only-of-type {\n",
              "        vertical-align: middle;\n",
              "    }\n",
              "\n",
              "    .dataframe tbody tr th {\n",
              "        vertical-align: top;\n",
              "    }\n",
              "\n",
              "    .dataframe thead th {\n",
              "        text-align: right;\n",
              "    }\n",
              "</style>\n",
              "<table border=\"1\" class=\"dataframe\">\n",
              "  <thead>\n",
              "    <tr style=\"text-align: right;\">\n",
              "      <th></th>\n",
              "      <th>price</th>\n",
              "      <th>lotsize</th>\n",
              "      <th>bedrooms</th>\n",
              "      <th>bathrms</th>\n",
              "      <th>stories</th>\n",
              "      <th>driveway</th>\n",
              "      <th>recroom</th>\n",
              "      <th>fullbase</th>\n",
              "      <th>gashw</th>\n",
              "      <th>airco</th>\n",
              "      <th>garagepl</th>\n",
              "      <th>prefarea</th>\n",
              "    </tr>\n",
              "  </thead>\n",
              "  <tbody>\n",
              "    <tr>\n",
              "      <th>1</th>\n",
              "      <td>42000.0</td>\n",
              "      <td>5850</td>\n",
              "      <td>3</td>\n",
              "      <td>1</td>\n",
              "      <td>2</td>\n",
              "      <td>yes</td>\n",
              "      <td>no</td>\n",
              "      <td>yes</td>\n",
              "      <td>no</td>\n",
              "      <td>no</td>\n",
              "      <td>1</td>\n",
              "      <td>no</td>\n",
              "    </tr>\n",
              "    <tr>\n",
              "      <th>2</th>\n",
              "      <td>38500.0</td>\n",
              "      <td>4000</td>\n",
              "      <td>2</td>\n",
              "      <td>1</td>\n",
              "      <td>1</td>\n",
              "      <td>yes</td>\n",
              "      <td>no</td>\n",
              "      <td>no</td>\n",
              "      <td>no</td>\n",
              "      <td>no</td>\n",
              "      <td>0</td>\n",
              "      <td>no</td>\n",
              "    </tr>\n",
              "    <tr>\n",
              "      <th>3</th>\n",
              "      <td>49500.0</td>\n",
              "      <td>3060</td>\n",
              "      <td>3</td>\n",
              "      <td>1</td>\n",
              "      <td>1</td>\n",
              "      <td>yes</td>\n",
              "      <td>no</td>\n",
              "      <td>no</td>\n",
              "      <td>no</td>\n",
              "      <td>no</td>\n",
              "      <td>0</td>\n",
              "      <td>no</td>\n",
              "    </tr>\n",
              "    <tr>\n",
              "      <th>4</th>\n",
              "      <td>60500.0</td>\n",
              "      <td>6650</td>\n",
              "      <td>3</td>\n",
              "      <td>1</td>\n",
              "      <td>2</td>\n",
              "      <td>yes</td>\n",
              "      <td>yes</td>\n",
              "      <td>no</td>\n",
              "      <td>no</td>\n",
              "      <td>no</td>\n",
              "      <td>0</td>\n",
              "      <td>no</td>\n",
              "    </tr>\n",
              "    <tr>\n",
              "      <th>5</th>\n",
              "      <td>61000.0</td>\n",
              "      <td>6360</td>\n",
              "      <td>2</td>\n",
              "      <td>1</td>\n",
              "      <td>1</td>\n",
              "      <td>yes</td>\n",
              "      <td>no</td>\n",
              "      <td>no</td>\n",
              "      <td>no</td>\n",
              "      <td>no</td>\n",
              "      <td>0</td>\n",
              "      <td>no</td>\n",
              "    </tr>\n",
              "  </tbody>\n",
              "</table>\n",
              "</div>"
            ],
            "text/plain": [
              "     price  lotsize  bedrooms  bathrms  ...  gashw airco garagepl prefarea\n",
              "1  42000.0     5850         3        1  ...     no    no        1       no\n",
              "2  38500.0     4000         2        1  ...     no    no        0       no\n",
              "3  49500.0     3060         3        1  ...     no    no        0       no\n",
              "4  60500.0     6650         3        1  ...     no    no        0       no\n",
              "5  61000.0     6360         2        1  ...     no    no        0       no\n",
              "\n",
              "[5 rows x 12 columns]"
            ]
          },
          "metadata": {
            "tags": []
          },
          "execution_count": 9
        }
      ]
    },
    {
      "cell_type": "markdown",
      "metadata": {
        "id": "-KVoBlx81jag"
      },
      "source": [
        "So we can see above a snapshot of available information, so now select the criteria i.e. price, number of bedrooms, number of bathrooms, if it has a driveway and if a preferred location, "
      ]
    },
    {
      "cell_type": "markdown",
      "metadata": {
        "id": "3sC922AS2qKf"
      },
      "source": [
        "Lets first construct a search for given criteria"
      ]
    },
    {
      "cell_type": "code",
      "metadata": {
        "colab": {
          "base_uri": "https://localhost:8080/"
        },
        "id": "sLVTFwW-U0Rj",
        "outputId": "3f2f82da-c619-4fd0-ce0e-6718ca078aeb"
      },
      "source": [
        "first_query = houses[[\"price\",\"bedrooms\",\"bathrms\",\"driveway\",\"prefarea\"]]\n",
        "print(\"first_query returns top ten\",'\\n',first_query.head(10))"
      ],
      "execution_count": null,
      "outputs": [
        {
          "output_type": "stream",
          "text": [
            "first_query returns top ten \n",
            "       price  bedrooms  bathrms driveway prefarea\n",
            "1   42000.0         3        1      yes       no\n",
            "2   38500.0         2        1      yes       no\n",
            "3   49500.0         3        1      yes       no\n",
            "4   60500.0         3        1      yes       no\n",
            "5   61000.0         2        1      yes       no\n",
            "6   66000.0         3        1      yes       no\n",
            "7   66000.0         3        2      yes       no\n",
            "8   69000.0         3        1      yes       no\n",
            "9   83800.0         3        1      yes       no\n",
            "10  88500.0         3        2      yes       no\n"
          ],
          "name": "stdout"
        }
      ]
    },
    {
      "cell_type": "markdown",
      "metadata": {
        "id": "YIHpMxT42OLo"
      },
      "source": [
        "Lets now order this data in terms of lowest price and include the other given criteria"
      ]
    },
    {
      "cell_type": "code",
      "metadata": {
        "colab": {
          "base_uri": "https://localhost:8080/"
        },
        "id": "33LvxW4uWAka",
        "outputId": "5d7244e0-3701-4720-cc1c-fbb16a1a12a3"
      },
      "source": [
        "first_query_sorted = first_query.sort_values(by=\"price\")\n",
        "print(\"first_query returns top ten ob price\",'\\n',first_query_sorted.head(10))\n"
      ],
      "execution_count": null,
      "outputs": [
        {
          "output_type": "stream",
          "text": [
            "first_query returns top ten ob price \n",
            "        price  bedrooms  bathrms driveway prefarea\n",
            "56   25000.0         2        1      yes       no\n",
            "163  25000.0         3        1       no       no\n",
            "233  25000.0         3        1      yes       no\n",
            "57   25245.0         3        1       no       no\n",
            "239  26000.0         2        1      yes       no\n",
            "139  26500.0         2        1       no       no\n",
            "244  27000.0         2        1      yes       no\n",
            "13   27000.0         3        1      yes       no\n",
            "185  28000.0         5        1       no       no\n",
            "240  30000.0         4        1      yes       no\n"
          ],
          "name": "stdout"
        }
      ]
    },
    {
      "cell_type": "markdown",
      "metadata": {
        "id": "Sy5-IOzi3IU4"
      },
      "source": [
        "So now we can do the first query without the preferred area"
      ]
    },
    {
      "cell_type": "code",
      "metadata": {
        "colab": {
          "base_uri": "https://localhost:8080/"
        },
        "id": "FdtKy8Ngg3_a",
        "outputId": "47d4ceec-7053-425f-9a62-91303650f56c"
      },
      "source": [
        "ideal_house = first_query_sorted[(first_query_sorted[\"price\"]>0) & (first_query_sorted[\"bedrooms\"]>=3) & (first_query_sorted[\"bathrms\"]>=1) & (first_query_sorted[\"driveway\"] == \"yes\")]\n",
        "print(\"Ideal house any area \",'\\n',ideal_house.head(10))"
      ],
      "execution_count": null,
      "outputs": [
        {
          "output_type": "stream",
          "text": [
            "Ideal house any area  \n",
            "        price  bedrooms  bathrms driveway prefarea\n",
            "233  25000.0         3        1      yes       no\n",
            "13   27000.0         3        1      yes       no\n",
            "240  30000.0         4        1      yes       no\n",
            "60   30000.0         3        1      yes       no\n",
            "245  32500.0         3        1      yes       no\n",
            "74   34000.0         3        1      yes       no\n",
            "241  34000.0         4        2      yes       no\n",
            "75   35000.0         3        1      yes       no\n",
            "59   35500.0         3        1      yes       no\n",
            "23   37900.0         3        1      yes       no\n"
          ],
          "name": "stdout"
        }
      ]
    },
    {
      "cell_type": "markdown",
      "metadata": {
        "id": "5tIQenvN3RM_"
      },
      "source": [
        "So now we can do the second query with the preferred area"
      ]
    },
    {
      "cell_type": "code",
      "metadata": {
        "colab": {
          "base_uri": "https://localhost:8080/"
        },
        "id": "jqEBlyY1igR4",
        "outputId": "fa5910a4-9e6b-4d1f-d80f-3034861efbd8"
      },
      "source": [
        "ideal_house_prefer_area = first_query_sorted[(first_query_sorted[\"price\"]>0) & (first_query_sorted[\"bedrooms\"]>=3) & (first_query_sorted[\"bathrms\"]>=1) & (first_query_sorted[\"driveway\"] == \"yes\") & (first_query_sorted[\"prefarea\"] == \"yes\")]\n",
        "print(\"Ideal house any area \",'\\n',ideal_house_prefer_area.head(10))"
      ],
      "execution_count": null,
      "outputs": [
        {
          "output_type": "stream",
          "text": [
            "Ideal house any area  \n",
            "        price  bedrooms  bathrms driveway prefarea\n",
            "459  44555.0         3        1      yes      yes\n",
            "460  47000.0         3        1      yes      yes\n",
            "461  47600.0         3        1      yes      yes\n",
            "462  49000.0         3        1      yes      yes\n",
            "463  49000.0         3        1      yes      yes\n",
            "464  49000.0         3        2      yes      yes\n",
            "465  49500.0         3        1      yes      yes\n",
            "473  50000.0         3        1      yes      yes\n",
            "441  51900.0         3        1      yes      yes\n",
            "466  52000.0         3        1      yes      yes\n"
          ],
          "name": "stdout"
        }
      ]
    }
  ]
}