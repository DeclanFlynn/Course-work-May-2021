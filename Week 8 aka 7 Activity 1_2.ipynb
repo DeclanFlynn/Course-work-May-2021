{
 "cells": [
  {
   "cell_type": "markdown",
   "metadata": {},
   "source": [
    "Activity 1.2\n",
    "PCA is often used to visualise data, but it is also important for reducing datasets with a lot of features to a reasonable dimension size, while still explaining the majority of the variance. It is very common to use PCA to reduce the number of dimensions in a dataset to the point where 95 or 99% of the variance is accounted for. Import the lots_of_features.csv dataset and find how many principle components are needed to explain 95 and 99% of the variance respectively. There are multiple ways to do this - graphically or programatically!"
   ]
  },
  {
   "cell_type": "code",
   "execution_count": 64,
   "metadata": {},
   "outputs": [],
   "source": [
    "import numpy as np\n",
    "import pandas as pd\n",
    "import matplotlib.pyplot as plt\n",
    "from sklearn.decomposition import PCA\n",
    "from sklearn.decomposition import FactorAnalysis"
   ]
  },
  {
   "cell_type": "code",
   "execution_count": 65,
   "metadata": {},
   "outputs": [],
   "source": [
    "data = pd.read_csv(\"lots_of_features.csv\")"
   ]
  },
  {
   "cell_type": "code",
   "execution_count": 66,
   "metadata": {},
   "outputs": [],
   "source": [
    "raw_data =np.array(data)\n",
    "X = raw_data[0:,1:51]"
   ]
  },
  {
   "cell_type": "code",
   "execution_count": 67,
   "metadata": {},
   "outputs": [],
   "source": [
    "feature_names = data.columns[1:51]"
   ]
  },
  {
   "cell_type": "code",
   "execution_count": 68,
   "metadata": {},
   "outputs": [],
   "source": [
    "factor = FactorAnalysis(n_components=50).fit(X) #Components set to 50, which will appear as rows below"
   ]
  },
  {
   "cell_type": "code",
   "execution_count": 69,
   "metadata": {},
   "outputs": [
    {
     "name": "stdout",
     "output_type": "stream",
     "text": [
      "Explained variance by each component: [5.13148702e-01 4.41999224e-01 1.57788473e-03 1.54247899e-03\n",
      " 1.51030347e-03 1.50266433e-03 1.44272155e-03 1.41433248e-03\n",
      " 1.37105846e-03 1.32844777e-03 1.31719230e-03 1.30265281e-03\n",
      " 1.25272633e-03 1.24348789e-03 1.21730922e-03 1.20922944e-03\n",
      " 1.19358477e-03 1.18013478e-03 1.16937483e-03 1.13657506e-03\n",
      " 1.12310242e-03 1.12015054e-03 1.10614793e-03 1.06599552e-03\n",
      " 1.05761724e-03 1.04699290e-03 1.03498970e-03 1.02473101e-03\n",
      " 1.00924895e-03 9.79510869e-04 9.61908813e-04 9.55470841e-04\n",
      " 9.17439314e-04 8.98670239e-04 8.88702595e-04 8.73673251e-04\n",
      " 8.54863481e-04 8.39124284e-04 8.08435892e-04 7.95345531e-04\n",
      " 7.51800371e-04 7.04800044e-04 1.17810766e-04 2.95288008e-06\n",
      " 3.12096462e-07 1.16889664e-07 1.29405055e-11 1.09850302e-11\n",
      " 1.06756949e-11 1.10172558e-21]\n",
      "\n",
      "\n",
      "       Featrue 0     Featrue 1     Featrue 2     Featrue 3     Featrue 4  \\\n",
      "0  -7.601500e-04 -2.900568e-01  3.739098e-11  9.865774e-06  8.742784e-06   \n",
      "1   1.503582e-01 -1.180198e-01 -7.489347e-11 -3.165618e-05 -1.763818e-05   \n",
      "2   2.934494e-01  1.723000e-01  7.464251e-12 -5.988912e-06  5.737927e-08   \n",
      "3  -1.518294e-01  9.014096e-02  2.396652e-11  6.060291e-06  3.513384e-07   \n",
      "4  -1.460111e-01  6.436730e-02 -7.892575e-12 -1.130665e-06 -3.294687e-07   \n",
      "5   9.515324e-03 -7.240188e-02 -2.676317e-11  1.454018e-08  8.093561e-07   \n",
      "6   1.155779e-01  7.387399e-03  2.975512e-11 -3.060816e-06 -7.549930e-07   \n",
      "7   2.163444e-01  2.015305e-01 -1.365907e-12 -2.522519e-06  1.351971e-06   \n",
      "8   1.133799e-01 -8.311747e-02 -2.493605e-11 -2.273130e-06 -3.438177e-07   \n",
      "9  -6.998152e-02  4.255948e-02  4.235253e-11 -2.818881e-08 -1.020383e-06   \n",
      "10 -1.958993e-01  8.033416e-02 -9.681186e-12 -2.562016e-06 -7.413149e-07   \n",
      "11 -1.562624e-01  1.866400e-02 -2.812720e-11 -3.484809e-06  2.930314e-06   \n",
      "12 -2.119372e-01  3.060761e-02  2.209241e-11 -1.345213e-06  2.938364e-06   \n",
      "13  3.455295e-01 -1.839382e-01  4.011386e-11  7.322783e-07  1.148660e-06   \n",
      "14  4.007711e-02 -8.727733e-02 -3.603991e-12 -5.160094e-06 -1.357413e-07   \n",
      "15 -5.084654e-02  6.905358e-02  4.134720e-11  3.768708e-07 -1.208595e-06   \n",
      "16  2.592236e-01 -1.675160e-01 -1.147308e-11  2.006285e-06  9.351936e-07   \n",
      "17 -7.611389e-02 -1.068372e-01 -1.794773e-11  3.390970e-06  7.782108e-06   \n",
      "18 -9.647852e-02  2.152575e-01  3.379933e-11  2.649750e-06 -6.626128e-06   \n",
      "19 -6.547251e-02  2.256331e-01 -1.190130e-11  2.682503e-06 -6.081845e-07   \n",
      "20 -1.395297e-01 -7.356317e-02  1.109558e-11 -3.507979e-07 -2.377490e-06   \n",
      "21  4.169718e-02 -1.154534e-01  7.071878e-11 -3.539242e-06 -2.796768e-06   \n",
      "22 -4.396257e-02  7.213065e-02  2.410991e-11  9.542331e-07  1.158156e-06   \n",
      "23 -2.618390e-01 -6.588576e-02  1.967870e-11 -1.449414e-06  6.550991e-06   \n",
      "24  2.733051e-01 -2.573213e-01 -7.642470e-11 -2.477782e-06  5.219165e-07   \n",
      "25 -2.274856e-01 -6.330135e-03  3.739387e-11  2.636444e-06 -5.380531e-06   \n",
      "26 -1.674789e-01 -2.016111e-01 -1.826697e-11 -5.633773e-06 -1.418774e-06   \n",
      "27  9.170710e-02 -3.175367e-02 -5.219880e-12  2.805249e-06 -1.906505e-06   \n",
      "28 -1.780775e-02 -1.374976e-03  4.198670e-11  4.680008e-07  1.007603e-06   \n",
      "29 -1.815405e-01 -6.350700e-03 -3.756651e-11 -2.980701e-06 -5.971669e-06   \n",
      "30  1.428597e-01  1.825495e-01  3.039749e-11  4.558687e-07 -5.307067e-06   \n",
      "31  6.780151e-02  1.199870e-02  4.344189e-11 -1.121495e-06 -8.727937e-07   \n",
      "32  1.677190e-01  9.846204e-02 -4.622219e-12 -1.821600e-06 -5.101680e-06   \n",
      "33  1.990206e-02 -2.813174e-01 -2.678158e-11  8.656000e-07  4.535868e-06   \n",
      "34  2.083027e-02  2.737764e-01 -4.577742e-11 -2.189500e-06 -3.612250e-06   \n",
      "35  2.409455e-02 -6.438153e-02 -2.299451e-11 -4.123437e-06  2.959788e-06   \n",
      "36 -1.308360e-01  2.484193e-01  4.486247e-11  2.216411e-06  1.924541e-06   \n",
      "37  2.233493e-01  2.757290e-01  4.462181e-11  7.920649e-07  2.819086e-06   \n",
      "38  1.746537e-01  2.634744e-01  1.902156e-11 -2.929399e-06 -5.914117e-06   \n",
      "39  9.458704e-02  2.606164e-01 -1.446093e-11 -4.325741e-06 -5.918695e-06   \n",
      "40 -8.502428e-03  3.067793e-02  9.901208e-11 -8.361948e-06 -6.248285e-06   \n",
      "41  4.527139e-02  2.271298e-02  4.677897e-11 -3.123553e-06 -2.995073e-07   \n",
      "42  2.578954e-03  2.189503e-02 -6.077627e-11 -6.399302e-06  9.130382e-06   \n",
      "43  3.936330e-03  4.372085e-03  6.073970e-10  1.071540e-04  1.176257e-04   \n",
      "44 -7.299215e-04  1.689645e-05 -1.726910e-09 -2.096645e-04 -4.227291e-04   \n",
      "45  3.788741e-04 -6.933548e-04  1.549256e-09  4.440277e-04  2.098545e-04   \n",
      "46  8.159594e-06  4.709588e-06  4.722356e-07  7.139306e-01  6.650003e-01   \n",
      "47 -1.137851e-06  2.496677e-06 -6.387314e-07  7.304478e-02  2.407012e-01   \n",
      "48  2.339902e-06 -6.002746e-06  3.831181e-07  6.963960e-01 -7.069917e-01   \n",
      "49 -9.549683e-12  5.464293e-11 -1.000000e+00  5.572904e-07 -1.105668e-07   \n",
      "\n",
      "       Featrue 5     Featrue 6     Featrue 7     Featrue 8     Featrue 9  ...  \\\n",
      "0   8.351219e-02 -3.641476e-04 -5.122567e-02  2.355777e-02 -7.013058e-02  ...   \n",
      "1   7.636028e-02 -2.285428e-03  8.053905e-02  2.737399e-02  1.122903e-01  ...   \n",
      "2   1.268199e-01  2.608950e-04  2.483802e-01  2.996289e-03  8.105629e-02  ...   \n",
      "3  -2.604073e-01 -3.976694e-04 -3.702233e-02 -7.431908e-03  2.030808e-01  ...   \n",
      "4   1.967289e-01 -5.360861e-05  3.725960e-01  3.912230e-03  5.939394e-02  ...   \n",
      "5  -5.843157e-02 -4.121108e-04 -2.496763e-01 -7.842782e-04  9.160074e-02  ...   \n",
      "6  -3.934248e-02  2.147412e-04 -8.972565e-02  2.654340e-03  4.439195e-02  ...   \n",
      "7   1.025229e-02  2.582848e-04 -8.634581e-02  3.482225e-03 -5.005476e-02  ...   \n",
      "8   1.218961e-01  5.155062e-05  4.132291e-02 -1.395972e-02 -3.517036e-02  ...   \n",
      "9   1.009398e-01  5.796441e-04 -2.210478e-01  1.792948e-02 -4.338337e-02  ...   \n",
      "10  5.843876e-03  2.623230e-04 -1.186085e-01  7.962418e-03 -9.871557e-03  ...   \n",
      "11  8.164778e-02  3.091203e-04  1.041514e-01  2.209949e-02  1.244634e-01  ...   \n",
      "12 -9.387080e-02  2.609981e-04 -3.171744e-02 -1.238914e-02 -1.592159e-01  ...   \n",
      "13 -6.860483e-02  5.349889e-04  1.452610e-01 -6.079137e-03  7.964371e-02  ...   \n",
      "14 -3.529964e-01 -2.050589e-04 -1.573526e-01  1.544989e-03  2.625895e-01  ...   \n",
      "15  2.289282e-01  3.866267e-04 -1.118470e-01 -8.056572e-03 -1.632766e-01  ...   \n",
      "16  2.498114e-01 -7.547441e-04 -3.683494e-01  1.166260e-02  5.873993e-02  ...   \n",
      "17  6.516790e-02 -1.570743e-04  7.767240e-02 -2.414686e-03  3.485680e-01  ...   \n",
      "18  2.337732e-01 -1.117991e-04  7.520147e-03 -3.025664e-04  2.921296e-01  ...   \n",
      "19  3.472120e-02 -3.233006e-04 -3.023864e-01 -2.963431e-03  1.289168e-01  ...   \n",
      "20  8.925363e-02  1.677501e-04  1.261295e-01  1.166799e-02  4.106981e-02  ...   \n",
      "21 -2.371412e-01 -2.295163e-04  3.962879e-02  7.683735e-03  1.694938e-01  ...   \n",
      "22 -7.670934e-02  2.779882e-04  5.510433e-02 -5.548278e-03 -7.042547e-02  ...   \n",
      "23 -9.953319e-02  3.114285e-04 -6.955784e-02 -1.181736e-02  1.212427e-01  ...   \n",
      "24  2.102680e-01 -3.503488e-05  6.056149e-02  5.150749e-03  2.664566e-01  ...   \n",
      "25  8.920805e-02 -9.737898e-05  8.822656e-02  1.464565e-03  5.974013e-02  ...   \n",
      "26  1.693696e-01  3.869227e-04 -1.623085e-01  1.474804e-02 -3.211702e-01  ...   \n",
      "27  1.179015e-01 -4.104824e-04 -1.520315e-01 -9.040697e-03  1.061610e-01  ...   \n",
      "28  2.934356e-01 -1.778106e-04 -1.083279e-01  5.472750e-03  1.408259e-01  ...   \n",
      "29  7.544961e-02 -3.300692e-04  2.931694e-01  5.685719e-03 -2.624418e-03  ...   \n",
      "30 -1.881512e-01 -4.302556e-04  2.704150e-03 -1.918127e-02  2.515441e-02  ...   \n",
      "31 -1.676665e-01  1.716418e-04 -2.677085e-01  1.279181e-02  9.581832e-03  ...   \n",
      "32 -1.962842e-01 -3.693561e-04  1.476420e-01  2.129846e-02 -2.597439e-01  ...   \n",
      "33 -9.083478e-02  4.852747e-04  1.913041e-01  2.467637e-02 -1.429266e-01  ...   \n",
      "34  1.675010e-02  4.597983e-04  5.591250e-02 -9.085453e-03  3.001323e-01  ...   \n",
      "35  1.698542e-01 -6.391831e-05 -8.208895e-02 -1.770836e-02 -2.115824e-02  ...   \n",
      "36  1.665147e-01  2.971184e-04 -9.265049e-02  8.656723e-03  7.645190e-03  ...   \n",
      "37  8.662073e-02  3.596068e-04  8.751971e-03 -2.889095e-02 -3.224291e-01  ...   \n",
      "38  3.782998e-02  4.650565e-05  9.141915e-02 -1.561407e-03  3.852574e-02  ...   \n",
      "39 -8.214451e-02  7.602203e-04 -4.039067e-02  3.251766e-02 -6.558758e-03  ...   \n",
      "40  1.083233e-01  4.651472e-04  2.294950e-02  3.428699e-03 -4.019776e-02  ...   \n",
      "41  2.315678e-01 -1.319527e-04 -4.398787e-03 -2.590161e-02 -1.141721e-02  ...   \n",
      "42  1.185530e-03 -2.928908e-03 -2.343145e-03  9.958455e-01  1.822628e-05  ...   \n",
      "43 -1.497975e-03  1.874004e-03 -2.346953e-04 -2.898459e-04  1.564902e-03  ...   \n",
      "44 -6.281520e-04 -8.930787e-02 -9.153542e-04 -2.393385e-03  2.393929e-04  ...   \n",
      "45 -2.678800e-06  9.959927e-01 -2.405350e-04  2.744536e-03  8.356155e-04  ...   \n",
      "46  3.378276e-06 -5.438087e-04  7.644176e-06 -4.977406e-06  3.220215e-06  ...   \n",
      "47 -3.049923e-06  1.286900e-04 -3.051514e-06  8.362328e-06 -1.757117e-06  ...   \n",
      "48  7.031492e-07 -1.183273e-04  4.670880e-07  1.233402e-05 -9.777646e-07  ...   \n",
      "49 -2.986093e-12  1.314508e-09 -2.963746e-11 -5.952953e-11 -3.241821e-11  ...   \n",
      "\n",
      "      Featrue 40    Featrue 41    Featrue 42    Featrue 43    Featrue 44  \\\n",
      "0  -5.430727e-02 -8.781435e-02  2.832437e-02 -1.104839e-02  8.603607e-03   \n",
      "1   2.193676e-01 -3.663135e-02  2.552551e-02  1.997300e-01 -5.123522e-02   \n",
      "2  -4.373437e-04 -4.223002e-01  2.329922e-01 -9.916970e-02  4.543105e-02   \n",
      "3  -1.834480e-01 -1.343242e-01 -1.152950e-01 -8.818748e-02  2.195217e-02   \n",
      "4  -1.424860e-01  2.297646e-01  2.627365e-01  1.149887e-01 -2.668351e-01   \n",
      "5   4.537794e-02 -1.005556e-01  1.468133e-01 -1.411629e-02  9.011346e-02   \n",
      "6  -4.598532e-02  1.473577e-01  2.586514e-01  1.166453e-01 -2.070406e-01   \n",
      "7   2.443196e-02  1.271405e-01  8.861986e-02 -1.212768e-01  4.474364e-02   \n",
      "8   8.897033e-02  2.361649e-01 -1.763234e-01 -2.850931e-02  2.213345e-01   \n",
      "9  -6.207819e-02 -1.773345e-01  8.730063e-02  1.255464e-01 -9.510762e-02   \n",
      "10 -3.246210e-01 -2.068346e-03  9.923261e-02 -2.880264e-01 -3.049755e-01   \n",
      "11  1.308325e-01 -1.909878e-01 -1.707309e-02 -3.438572e-02  6.658502e-02   \n",
      "12  1.698798e-01 -8.557108e-02  8.435005e-02  5.520737e-02 -2.961959e-01   \n",
      "13 -4.441864e-01  1.522980e-01  2.297972e-01 -1.599448e-01  2.561329e-01   \n",
      "14 -1.357416e-01 -1.334286e-01 -5.689144e-02  4.082199e-02  5.400475e-02   \n",
      "15 -1.088762e-01  9.033994e-02  1.457274e-02 -9.297951e-02  2.641398e-01   \n",
      "16 -5.463554e-02  6.305189e-02 -2.277961e-01  1.043485e-02 -2.251530e-01   \n",
      "17  1.837683e-01 -1.447017e-01  1.283886e-02  2.680174e-01 -3.884614e-02   \n",
      "18 -8.269149e-02 -1.345104e-01  3.344137e-02  3.326349e-01  3.387981e-01   \n",
      "19 -6.816127e-02  1.742891e-01  1.109116e-01  2.164823e-01  3.267330e-02   \n",
      "20  8.840090e-02  1.236030e-01  5.444065e-02 -3.870818e-02  2.253607e-01   \n",
      "21  1.691144e-01 -1.521818e-01  1.388761e-02 -2.654622e-01 -8.950010e-02   \n",
      "22  1.884802e-01  5.288306e-03 -4.833929e-02 -3.741513e-02  3.729917e-02   \n",
      "23 -1.449109e-01  1.728303e-01 -9.805394e-02  3.982961e-02 -4.149156e-02   \n",
      "24  1.329718e-01  5.352689e-02 -1.104370e-01 -1.484919e-01 -2.012300e-01   \n",
      "25  2.013549e-01  2.100873e-01 -9.223464e-02 -8.561124e-02  5.732921e-02   \n",
      "26 -8.025826e-02 -2.706254e-01  1.028895e-01  5.138928e-03  2.016751e-01   \n",
      "27  1.520627e-01 -1.703859e-01  2.683996e-01 -8.932718e-02 -4.120140e-02   \n",
      "28  6.991981e-02  2.847200e-02 -1.884024e-01 -1.217775e-01  5.691044e-02   \n",
      "29 -2.840906e-01 -1.467832e-01 -2.978306e-01 -1.576246e-02 -6.432045e-02   \n",
      "30  3.405902e-02  8.766734e-02 -3.723513e-01 -7.032894e-02  1.828756e-01   \n",
      "31  3.386477e-02  4.825362e-02 -3.969284e-03  3.054218e-01  8.116754e-02   \n",
      "32  9.205344e-02 -9.277578e-02 -1.669957e-02  2.401267e-01  8.393199e-02   \n",
      "33  1.076152e-02 -3.099534e-02 -6.629015e-02  1.379353e-01  7.219130e-02   \n",
      "34  2.031492e-02  1.288126e-01 -5.397295e-02 -6.373138e-02 -9.346768e-02   \n",
      "35 -1.229513e-01  4.018160e-02 -4.272434e-02 -5.383632e-02  5.957951e-02   \n",
      "36  1.654057e-01 -8.521573e-02  1.180672e-01 -3.500583e-01  1.714869e-01   \n",
      "37  8.414850e-02 -3.373379e-03 -1.091027e-01  6.327383e-02 -2.224989e-01   \n",
      "38 -2.177723e-01  9.841932e-03  4.817578e-02  1.769787e-01 -2.307619e-02   \n",
      "39  6.023410e-02 -1.412368e-01 -1.670374e-01 -1.863480e-01 -2.385070e-02   \n",
      "40  1.064345e-01  1.855839e-01 -5.662694e-02  1.010256e-01 -3.556147e-02   \n",
      "41 -2.478286e-01 -3.167718e-01 -3.710786e-01  1.393828e-01 -1.403239e-01   \n",
      "42 -1.615799e-02  1.894815e-02 -1.592163e-02 -2.687519e-03 -5.014795e-03   \n",
      "43  1.667690e-03  1.308728e-03 -3.138421e-05  7.040261e-04  2.054977e-03   \n",
      "44 -1.392407e-03 -7.184912e-04  3.059102e-04 -7.439494e-04 -4.898722e-04   \n",
      "45  3.663071e-04 -2.079302e-04 -4.591873e-04  6.800202e-04 -3.096285e-04   \n",
      "46  5.673685e-06 -3.633797e-06 -2.004367e-06  7.481001e-06 -1.598922e-06   \n",
      "47 -4.780795e-06  3.942319e-06  3.563660e-07 -7.292952e-06  1.200907e-06   \n",
      "48  1.179512e-06 -1.807154e-06  2.088964e-06 -4.912397e-07 -4.787483e-06   \n",
      "49 -6.239249e-12  9.510726e-13 -1.183775e-12  5.007827e-12  2.976391e-11   \n",
      "\n",
      "      Featrue 45    Featrue 46    Featrue 47    Featrue 48    Featrue 49  \n",
      "0   1.278878e-01  1.307803e-01 -4.633754e-02 -6.263649e-02  8.111850e-06  \n",
      "1   2.243774e-02 -2.974884e-01  8.160477e-02  2.434198e-01  1.709891e-05  \n",
      "2  -9.945977e-03 -6.468869e-02  3.695565e-02 -1.445067e-02  6.945312e-07  \n",
      "3  -1.036354e-01 -1.871789e-01  8.084657e-02 -1.751317e-01  4.723444e-07  \n",
      "4   1.052327e-01 -7.206503e-02 -2.450552e-01  1.558050e-01  2.155674e-06  \n",
      "5   2.431681e-01  1.345662e-01  1.209087e-01  1.445610e-01  1.015076e-06  \n",
      "6   1.483185e-02 -1.267009e-03  1.929154e-01  5.886371e-02 -1.863201e-06  \n",
      "7  -5.183621e-02 -3.178532e-02 -2.581065e-01 -4.151827e-01  1.115788e-06  \n",
      "8  -4.026732e-02 -7.753459e-02  3.193932e-01 -1.598353e-01  3.087076e-07  \n",
      "9  -1.865612e-01  9.756679e-02  1.497026e-01  5.474777e-02  6.411309e-07  \n",
      "10  6.455991e-02  8.028690e-03  2.970794e-01 -7.052980e-02 -6.990423e-07  \n",
      "11  2.401634e-01  1.209993e-01 -9.362759e-02  3.785294e-02  4.745858e-06  \n",
      "12 -1.045524e-01  6.902133e-02  7.859898e-02 -9.074733e-02 -1.525612e-06  \n",
      "13 -1.242547e-01  7.121947e-02 -8.378995e-02 -2.206737e-02  7.411894e-07  \n",
      "14  1.056028e-01  1.301997e-01 -6.332995e-03 -3.501930e-02 -1.971156e-06  \n",
      "15 -4.827205e-02  1.154842e-01 -4.779056e-03 -6.080008e-02 -2.036935e-06  \n",
      "16 -3.161409e-02 -1.456729e-01 -1.273155e-01  1.567739e-01  5.330478e-07  \n",
      "17 -4.223805e-01 -3.890032e-02 -8.018471e-02 -3.189771e-01  4.267444e-06  \n",
      "18  8.882130e-03  5.542359e-02  1.699475e-01  9.382198e-02  2.450658e-06  \n",
      "19  3.322448e-02 -5.669459e-03 -3.566443e-01 -7.123387e-02 -3.522432e-06  \n",
      "20  1.646217e-01  2.682956e-01 -1.942607e-01  8.810041e-02  6.394736e-07  \n",
      "21  4.228164e-02  1.043886e-02 -8.720361e-02 -3.847832e-02 -3.342542e-07  \n",
      "22  1.306176e-01 -2.798968e-01  7.274713e-02 -4.603857e-02 -1.446251e-06  \n",
      "23 -1.107823e-01 -4.192578e-02 -1.139611e-01  5.123558e-02 -1.705673e-06  \n",
      "24  1.031117e-01  1.010413e-01  4.196701e-02 -5.150348e-02 -2.202724e-06  \n",
      "25  9.243151e-02  5.696621e-02  5.129494e-02 -6.990749e-02  2.233783e-06  \n",
      "26  1.525525e-01 -4.202636e-01 -5.954886e-03 -8.560461e-02  2.403734e-07  \n",
      "27 -1.251085e-01  1.271486e-01  3.743096e-02 -6.825022e-02 -4.309962e-07  \n",
      "28  1.275544e-01 -1.820394e-01 -3.987382e-02  6.377722e-02 -3.012720e-06  \n",
      "29 -7.280430e-02 -4.082241e-02 -5.461512e-02 -3.357751e-03  1.016600e-06  \n",
      "30 -2.208020e-01  2.448080e-02  1.545726e-01  3.069556e-01 -1.632795e-06  \n",
      "31  7.615221e-02 -4.339157e-02 -1.428341e-01 -3.795276e-02  6.391680e-06  \n",
      "32  2.889067e-01  8.572487e-02  6.921762e-02 -2.047265e-01  4.925806e-06  \n",
      "33 -2.484107e-01 -1.076176e-01 -1.805271e-01 -1.038843e-01 -1.308184e-06  \n",
      "34  2.330018e-01 -2.563470e-01  7.967534e-02 -2.870049e-01  6.707477e-06  \n",
      "35  3.130919e-02 -1.407805e-01  5.493268e-02 -3.448893e-01 -5.913337e-06  \n",
      "36 -3.327560e-01  3.447163e-02 -6.590117e-02  1.004632e-01  1.529205e-06  \n",
      "37 -1.733230e-01  5.719275e-02 -9.046672e-02  3.128811e-02  2.650087e-06  \n",
      "38  5.123472e-02 -1.197513e-01  1.717190e-01  9.667151e-02 -1.774743e-06  \n",
      "39  1.845384e-01  1.779377e-02 -3.352556e-01  3.601333e-02 -3.992702e-07  \n",
      "40  1.185813e-02  3.562763e-01  2.535277e-01 -2.692906e-01  6.204982e-06  \n",
      "41  9.652908e-02  2.972040e-01 -8.460040e-02 -1.203135e-01  6.680870e-06  \n",
      "42 -2.605862e-02  9.272308e-03  2.126569e-02 -1.196565e-02 -1.118449e-05  \n",
      "43  1.690238e-03 -3.493840e-03  9.429131e-04 -5.171376e-04  1.233868e-05  \n",
      "44 -3.419987e-04  1.603031e-03 -1.069558e-03 -6.655194e-04 -1.108020e-04  \n",
      "45  6.111543e-05 -4.607899e-04  2.555691e-04  8.706054e-04 -2.400818e-04  \n",
      "46  1.123001e-05 -6.602709e-06  8.153793e-06  6.538777e-06 -2.192654e-01  \n",
      "47 -1.805789e-06 -1.399626e-06  1.282160e-06  2.786918e-06  9.678467e-01  \n",
      "48 -1.184559e-06 -4.122589e-06 -1.143838e-06 -2.859723e-06  1.232693e-01  \n",
      "49 -3.390435e-11  8.329740e-11  2.305362e-11 -4.334560e-12 -6.745125e-07  \n",
      "\n",
      "[50 rows x 50 columns]\n"
     ]
    }
   ],
   "source": [
    "#Apply the PCA fitting algorithm\n",
    "pca = PCA().fit(X)\n",
    "\n",
    "#Print the output, Explained variance by each component, npte using word components\n",
    "\n",
    "print('Explained variance by each component: %s' % pca.explained_variance_ratio_)\n",
    "print('\\n')\n",
    "print(pd.DataFrame(pca.components_,columns = feature_names))"
   ]
  },
  {
   "cell_type": "markdown",
   "metadata": {},
   "source": [
    "Explained variance by each component: [5.13148702e-01 4.41999224e-01 1.57788473e-03 1.54247899e-03]\n",
    "is a very low contrbution to total, we are after 0.90 range\n",
    "Lets apply a way of finding the minimum number of components, looking at the data above you would suggect its going to be a small number"
   ]
  },
  {
   "cell_type": "code",
   "execution_count": 70,
   "metadata": {},
   "outputs": [
    {
     "data": {
      "text/plain": [
       "Text(0, 0.5, 'cumulative explained variance')"
      ]
     },
     "execution_count": 70,
     "metadata": {},
     "output_type": "execute_result"
    },
    {
     "data": {
      "image/png": "[encoded data removed]",
      "text/plain": [
       "<Figure size 432x288 with 1 Axes>"
      ]
     },
     "metadata": {
      "needs_background": "light"
     },
     "output_type": "display_data"
    }
   ],
   "source": [
    "#Lets use this function to log the number of components and explained variance\n",
    "pca = PCA().fit(data)\n",
    "plt.plot(np.cumsum(pca.explained_variance_ratio_))\n",
    "plt.xlabel('number of components')\n",
    "plt.ylabel('cumulative explained variance')\n"
   ]
  },
  {
   "cell_type": "code",
   "execution_count": 71,
   "metadata": {},
   "outputs": [],
   "source": [
    "#This above suggested 2\n",
    "raw_data =np.array(data)\n",
    "X = raw_data[0:,1:3]\n",
    "#print(X)"
   ]
  },
  {
   "cell_type": "code",
   "execution_count": 72,
   "metadata": {},
   "outputs": [],
   "source": [
    "feature_names = data.columns[1:3]\n",
    "#print(feature_names)"
   ]
  },
  {
   "cell_type": "code",
   "execution_count": 73,
   "metadata": {},
   "outputs": [],
   "source": [
    "factor = FactorAnalysis(n_components=2).fit(X) #Components set to 50, which will appear as rows below"
   ]
  },
  {
   "cell_type": "code",
   "execution_count": 74,
   "metadata": {},
   "outputs": [
    {
     "name": "stdout",
     "output_type": "stream",
     "text": [
      "Explained variance by each component: [0.8425411 0.1574589]\n",
      "\n",
      "\n",
      "   Featrue 0  Featrue 1\n",
      "0  -0.187381   0.982287\n",
      "1   0.982287   0.187381\n"
     ]
    }
   ],
   "source": [
    "#Apply the PCA fitting algorithm\n",
    "pca = PCA().fit(X)\n",
    "\n",
    "#Print the output, Explained variance by each component, npte using word components\n",
    "\n",
    "print('Explained variance by each component: %s' % pca.explained_variance_ratio_)\n",
    "print('\\n')\n",
    "print(pd.DataFrame(pca.components_,columns = feature_names))"
   ]
  },
  {
   "cell_type": "markdown",
   "metadata": {},
   "source": [
    "Two components suggest 100% of contribution"
   ]
  }
 ],
 "metadata": {
  "kernelspec": {
   "display_name": "Python 3",
   "language": "python",
   "name": "python3"
  },
  "language_info": {
   "codemirror_mode": {
    "name": "ipython",
    "version": 3
   },
   "file_extension": ".py",
   "mimetype": "text/x-python",
   "name": "python",
   "nbconvert_exporter": "python",
   "pygments_lexer": "ipython3",
   "version": "3.8.10"
  }
 },
 "nbformat": 4,
 "nbformat_minor": 4
}
