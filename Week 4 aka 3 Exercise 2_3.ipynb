{
 "cells": [
  {
   "cell_type": "code",
   "execution_count": 19,
   "metadata": {},
   "outputs": [],
   "source": [
    "import matplotlib.pyplot as plt\n",
    "import numpy as np\n",
    "import pandas as pd"
   ]
  },
  {
   "cell_type": "code",
   "execution_count": 20,
   "metadata": {},
   "outputs": [
    {
     "data": {
      "text/plain": [
       "<bound method DataFrame.info of      Unnamed: 0     price  lotsize  bedrooms  bathrms  stories driveway  \\\n",
       "0             1   42000.0     5850         3        1        2      yes   \n",
       "1             2   38500.0     4000         2        1        1      yes   \n",
       "2             3   49500.0     3060         3        1        1      yes   \n",
       "3             4   60500.0     6650         3        1        2      yes   \n",
       "4             5   61000.0     6360         2        1        1      yes   \n",
       "..          ...       ...      ...       ...      ...      ...      ...   \n",
       "541         542   91500.0     4800         3        2        4      yes   \n",
       "542         543   94000.0     6000         3        2        4      yes   \n",
       "543         544  103000.0     6000         3        2        4      yes   \n",
       "544         545  105000.0     6000         3        2        2      yes   \n",
       "545         546  105000.0     6000         3        1        2      yes   \n",
       "\n",
       "    recroom fullbase gashw airco  garagepl prefarea  \n",
       "0        no      yes    no    no         1       no  \n",
       "1        no       no    no    no         0       no  \n",
       "2        no       no    no    no         0       no  \n",
       "3       yes       no    no    no         0       no  \n",
       "4        no       no    no    no         0       no  \n",
       "..      ...      ...   ...   ...       ...      ...  \n",
       "541     yes       no    no   yes         0       no  \n",
       "542      no       no    no   yes         0       no  \n",
       "543     yes       no    no   yes         1       no  \n",
       "544     yes       no    no   yes         1       no  \n",
       "545      no       no    no   yes         1       no  \n",
       "\n",
       "[546 rows x 13 columns]>"
      ]
     },
     "execution_count": 20,
     "metadata": {},
     "output_type": "execute_result"
    }
   ],
   "source": [
    "#Importing the csv from local folder\n",
    "houses = pd.read_csv('housing.csv')\n",
    "#A quick look at whats come in from the file\n",
    "houses.info"
   ]
  },
  {
   "cell_type": "code",
   "execution_count": 21,
   "metadata": {},
   "outputs": [],
   "source": [
    "#Exercise is to create two bar charts in one figure, house price by bathrooms and one for property with driveway or not"
   ]
  },
  {
   "cell_type": "code",
   "execution_count": 22,
   "metadata": {},
   "outputs": [],
   "source": [
    "#First find the number of bathrooms and the aversage price\n",
    "#As we can see, we have 546 prices which would not be used for bar chart, so we need to bin or use average "
   ]
  },
  {
   "cell_type": "code",
   "execution_count": 23,
   "metadata": {},
   "outputs": [
    {
     "name": "stdout",
     "output_type": "stream",
     "text": [
      "For  1 bathrooms  there is an average price of  60153.23383084577\n",
      "For  2 bathrooms  there is an average price of  88702.94736842105\n",
      "For  3 bathrooms  there is an average price of  104030.0\n",
      "For  4 bathrooms  there is an average price of  175000.0\n"
     ]
    }
   ],
   "source": [
    "#So we should read in and collect all prices for each number of bathrooms e.g. average price for 3 bathroom house\n",
    "#initilise the variables\n",
    "max = 0; max_of=0; cur_no=0\n",
    "run_tot=[0]*5\n",
    "count=[0]*700\n",
    "collect_average=[]\n",
    "price_tot =[]*5\n",
    "#price_tot[1]=0; price_tot[2]=0; price_tot[3]=0; price_tot[4]=0\n",
    "price_tot = [0]*10\n",
    "\n",
    "#Since I have decided to use a for loop, I need the range of the loops\n",
    "max = houses[\"bathrms\"].max() #max value that object occurs in bedrooms\n",
    "len_col = len(houses[\"price\"]) #full length of price column\n",
    "\n",
    "#Now start to gather total of prices for each number of bathrooms\n",
    "for i in range(len_col): #Loop full length of column\n",
    "       \n",
    "    for j in range(1,max+1):\n",
    "        if houses[\"bathrms\"][i]==j:\n",
    "               \n",
    "            price_tot[j]= price_tot[j]+houses[\"price\"][i] #Varable for totaling up for eavch number of bathrooms\n",
    "            count[j]= count[j]+1 #number of values that go into total to work out average\n",
    "\n",
    "for k in range(1,max+1): #now counting up how often each number of bathrooms appears and producing the average for each bathroom number\n",
    "    print(\"For \",k,\"bathrooms\",\" there is an average price of \", price_tot[k]/count[k])\n",
    "    #Collecting the average price per number of bathrooms for use in the plotting process below\n",
    "    collect_average.append(price_tot[k]/count[k]) \n",
    "    if run_tot[k] > max_of:\n",
    "        max_of = run_tot[k]\n",
    "        cur_no = k\n"
   ]
  },
  {
   "cell_type": "code",
   "execution_count": 24,
   "metadata": {},
   "outputs": [],
   "source": [
    "#So above is round up of data for price v number of bathrooms\n",
    "#Now find the number of houses with/out driveways as a function/definition"
   ]
  },
  {
   "cell_type": "code",
   "execution_count": 25,
   "metadata": {},
   "outputs": [],
   "source": [
    "def tally_yes_no(target): #used to tally yes/no columns\n",
    "    sum0 = 0; sum1 = 0\n",
    "    len_col = len(target)\n",
    "   \n",
    "    for i in range(len_col):  #totaling up each feature as how often found\n",
    "        if (target[i]==\"yes\"):\n",
    "            sum0=sum0+1\n",
    "        if (target[i]==\"no\"):\n",
    "            sum1=sum1+1 \n",
    "      \n",
    "    #now counting up how often each yes and no appears\n",
    "    yes_count= sum0\n",
    "    no_count = sum1\n",
    "      \n",
    "    return yes_count,no_count"
   ]
  },
  {
   "cell_type": "code",
   "execution_count": 26,
   "metadata": {},
   "outputs": [
    {
     "name": "stdout",
     "output_type": "stream",
     "text": [
      "price with drive only 1 bthrm \n",
      " 62785.93841642229\n",
      "price with drive only 2 bthrm \n",
      " 91834.38655462184\n",
      "price with drive only 3 bthrm \n",
      " 117787.5\n",
      "price with drive only 4 bthrm \n",
      " 175000.0\n",
      "price without drive only 1 bthrm \n",
      " 45435.983606557376\n",
      "price without drive only 2 bthrm \n",
      " 62085.71428571428\n",
      "price without drive only 3 bthrm \n",
      " 49000.0\n",
      "price without drive only 4 bthrm \n",
      " 0\n"
     ]
    }
   ],
   "source": [
    "#So next, collect mean price for houses with driveway v no driveways for use plotting below \n",
    "\n",
    "#Pull out the three relevent columns from houses dataframe above\n",
    "price_with_drive_alldata = houses[[\"price\",\"driveway\",\"bathrms\"]]\n",
    "\n",
    "#Select mean price with driveway for each number of bathrooms\n",
    "\n",
    "price_with_drive_1btrm = price_with_drive_alldata[[\"price\"] & (price_with_drive_alldata[\"driveway\"]==\"yes\")& (price_with_drive_alldata[\"bathrms\"]==1) ]\n",
    "price_with_drive_only_1btrm = price_with_drive_1btrm[\"price\"].mean()\n",
    "print(\"price with drive only 1 bthrm\",'\\n',price_with_drive_only_1btrm)\n",
    "#1 Bathroom\n",
    "price_with_drive_2btrm = price_with_drive_alldata[[\"price\"] & (price_with_drive_alldata[\"driveway\"]==\"yes\")& (price_with_drive_alldata[\"bathrms\"]==2) ]\n",
    "price_with_drive_only_2btrm = price_with_drive_2btrm[\"price\"].mean()\n",
    "print(\"price with drive only 2 bthrm\",'\\n',price_with_drive_only_2btrm)\n",
    "#2 Bathrooms\n",
    "price_with_drive_3btrm = price_with_drive_alldata[[\"price\"] & (price_with_drive_alldata[\"driveway\"]==\"yes\")& (price_with_drive_alldata[\"bathrms\"]==3) ]\n",
    "price_with_drive_only_3btrm = price_with_drive_3btrm[\"price\"].mean()\n",
    "print(\"price with drive only 3 bthrm\",'\\n',price_with_drive_only_3btrm)\n",
    "#3 Bathrooms\n",
    "price_with_drive_4btrm = price_with_drive_alldata[[\"price\"] & (price_with_drive_alldata[\"driveway\"]==\"yes\")& (price_with_drive_alldata[\"bathrms\"]==4) ]\n",
    "price_with_drive_only_4btrm = price_with_drive_4btrm[\"price\"].mean()\n",
    "print(\"price with drive only 4 bthrm\",'\\n',price_with_drive_only_4btrm)\n",
    "\n",
    "#Now mean price for no Driveway\n",
    "#1 Bathroom\n",
    "price_without_drive_1btrm = price_with_drive_alldata[[\"price\"] & (price_with_drive_alldata[\"driveway\"]==\"no\")& (price_with_drive_alldata[\"bathrms\"]==1) ]\n",
    "price_without_drive_only_1btrm = price_without_drive_1btrm[\"price\"].mean()\n",
    "print(\"price without drive only 1 bthrm\",'\\n',price_without_drive_only_1btrm)\n",
    "#2 Bathrooms\n",
    "price_without_drive_2btrm = price_with_drive_alldata[[\"price\"] & (price_with_drive_alldata[\"driveway\"]==\"no\")& (price_with_drive_alldata[\"bathrms\"]==2) ]\n",
    "price_without_drive_only_2btrm = price_without_drive_2btrm[\"price\"].mean()\n",
    "print(\"price without drive only 2 bthrm\",'\\n',price_without_drive_only_2btrm)\n",
    "#3 Bathrooms\n",
    "price_without_drive_3btrm = price_with_drive_alldata[[\"price\"] & (price_with_drive_alldata[\"driveway\"]==\"no\")& (price_with_drive_alldata[\"bathrms\"]==3) ]\n",
    "price_without_drive_only_3btrm = price_without_drive_3btrm[\"price\"].mean()\n",
    "print(\"price without drive only 3 bthrm\",'\\n',price_without_drive_only_3btrm)\n",
    "#3 Bathrooms\n",
    "price_without_drive_4btrm = price_with_drive_alldata[[\"price\"] & (price_with_drive_alldata[\"driveway\"]==\"no\")& (price_with_drive_alldata[\"bathrms\"]==4) ]\n",
    "price_without_drive_only_3btrm = price_without_drive_4btrm[\"price\"].mean()\n",
    "print(\"price without drive only 4 bthrm\",'\\n',price_without_drive_only_4btrm)\n",
    "#There are no 4 bathroom houses with out driveway\n"
   ]
  },
  {
   "cell_type": "code",
   "execution_count": 27,
   "metadata": {},
   "outputs": [
    {
     "data": {
      "image/png": "[encoded data removed]",
      "text/plain": [
       "<Figure size 720x360 with 2 Axes>"
      ]
     },
     "metadata": {
      "needs_background": "light"
     },
     "output_type": "display_data"
    }
   ],
   "source": [
    "# Now let's make two bar plots/charts - one for the average price for number of bathrooms, and second number of batrooms and driveways \n",
    "# now set chart parameters\n",
    "#Position bars\n",
    "x1_position = [0,1,2,3]\n",
    "#Y data for chart 1\n",
    "y1 = collect_average\n",
    "\n",
    "#Y data chart 2\n",
    "y2 =  [price_without_drive_only_1btrm,price_without_drive_only_2btrm,price_without_drive_only_3btrm,price_without_drive_only_4btrm]\n",
    "\n",
    "# Define our fig, axes\n",
    "fig, (ax1, ax2) = plt.subplots(nrows=2, \n",
    "                               ncols=1, \n",
    "                               figsize=(10, 5), \n",
    "                               gridspec_kw={'height_ratios': [4, 4]},\n",
    "                               sharex=True)\n",
    "\n",
    "x2 = np.arange(len(labels))  # the label locations\n",
    "width = 0.35  # the width of the bars\n",
    "\n",
    "# Now Plot our data\n",
    "ax1.bar(x1_position, y1, bottom=None, align='center',color='green',label = 'Price per number of bathrooms')\n",
    "#ax2.bar(x1_position, y2, bottom=None, align='center',color='red',label = 'Number of driveways')\n",
    "ax2.bar(x2 - width/2, price_without_mean, width, label='Without Drive')\n",
    "ax2.bar(x2 + width/2, price_with_mean, width, label='With Drive')\n",
    "\n",
    "# Let's add labels and a legend\n",
    "ax1.set_ylabel(\"Price\")\n",
    "ax2.set_ylabel(\"Price with/out driveway v number of bathrooms\")\n",
    "ax2.set_xlabel(\"Driveway v no driveway per number of bathrooms\")\n",
    "# Add axis titles\n",
    "ax1.set_title(\"Bar chart of price v number of bathrooms\")\n",
    "ax2.set_title(\"Number of Bathrooms\")\n",
    "#framealpha=1, shadow=True, borderpad=1\n",
    "\n",
    "ax1.legend(loc ='best')\n",
    "ax2.legend(loc ='best')\n",
    "\n",
    "#Seperate a bit\n",
    "plt.tight_layout()"
   ]
  },
  {
   "cell_type": "code",
   "execution_count": null,
   "metadata": {},
   "outputs": [],
   "source": [
    "#Now Chart 1 Complete"
   ]
  },
  {
   "cell_type": "code",
   "execution_count": 28,
   "metadata": {},
   "outputs": [
    {
     "data": {
      "image/png": "[encoded data removed]",
      "text/plain": [
       "<Figure size 432x288 with 1 Axes>"
      ]
     },
     "metadata": {
      "needs_background": "light"
     },
     "output_type": "display_data"
    }
   ],
   "source": [
    "#Set out data for second chart\n",
    "labels = ['1 Batrm', '2 Bathrm', '3 Bathrm', '4 Bathrm']\n",
    "price_without_mean = [price_without_drive_only_1btrm,price_without_drive_only_2btrm,price_without_drive_only_3btrm,price_without_drive_only_4btrm]\n",
    "price_with_mean = [price_with_drive_only_1btrm,price_with_drive_only_2btrm,price_with_drive_only_3btrm,price_with_drive_only_4btrm]\n",
    "\n",
    "# Define our fig, axes\n",
    "fig, ax = plt.subplots()\n",
    "# Now Plot our data\n",
    "ax.bar(x2 - width/2, price_without_mean, width, label='Without Drive')\n",
    "ax.bar(x2 + width/2, price_with_mean, width, label='With Drive')\n",
    "\n",
    "# Add some text for labels, title and custom x-axis tick labels, etc.\n",
    "ax.set_ylabel('Price')\n",
    "ax.set_title('Prices by No Drive and With Drive')\n",
    "ax.set_xticks(x2)\n",
    "ax.set_xticklabels(labels)\n",
    "\n",
    "\n",
    "ax.legend()\n",
    "\n",
    "fig.tight_layout()\n",
    "\n",
    "plt.show()"
   ]
  },
  {
   "cell_type": "code",
   "execution_count": null,
   "metadata": {},
   "outputs": [],
   "source": [
    "#This is the end of the assignment"
   ]
  }
 ],
 "metadata": {
  "kernelspec": {
   "display_name": "Python 3",
   "language": "python",
   "name": "python3"
  },
  "language_info": {
   "codemirror_mode": {
    "name": "ipython",
    "version": 3
   },
   "file_extension": ".py",
   "mimetype": "text/x-python",
   "name": "python",
   "nbconvert_exporter": "python",
   "pygments_lexer": "ipython3",
   "version": "3.8.5"
  }
 },
 "nbformat": 4,
 "nbformat_minor": 4
}
