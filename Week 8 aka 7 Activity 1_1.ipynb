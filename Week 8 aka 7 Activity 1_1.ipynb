{
 "cells": [
  {
   "cell_type": "markdown",
   "metadata": {},
   "source": [
    "Activity 1.1\n",
    "Remember when we were projecting the iris dataset onto two dimensions and using a clustering/classification algorithm there? Compare (or compute!) those results with the same chosen algorithm used after reducing the dataset to 2 dimensions using PCA instead of just two of the features."
   ]
  },
  {
   "cell_type": "code",
   "execution_count": 94,
   "metadata": {},
   "outputs": [],
   "source": [
    "import numpy as np\n",
    "import pandas as pd\n",
    "from sklearn import datasets\n",
    "from sklearn.datasets import load_iris\n",
    "from sklearn.decomposition import PCA\n",
    "from sklearn.decomposition import FactorAnalysis\n",
    "from sklearn.model_selection import train_test_split\n",
    "from sklearn.neighbors import NearestNeighbors\n",
    "from sklearn.neighbors import NearestCentroid\n",
    "from sklearn.neighbors import KNeighborsClassifier\n",
    "from sklearn import neighbors\n",
    "from sklearn.metrics import classification_report\n",
    "from sklearn import metrics\n",
    "from sklearn.metrics import f1_score"
   ]
  },
  {
   "cell_type": "code",
   "execution_count": 95,
   "metadata": {},
   "outputs": [],
   "source": [
    "#Import our dataset\n",
    "iris = load_iris()\n",
    "X = iris.data\n",
    "Y = iris.target\n",
    "data1 = pd.read_csv(\"iris.csv\")"
   ]
  },
  {
   "cell_type": "code",
   "execution_count": 96,
   "metadata": {},
   "outputs": [
    {
     "name": "stdout",
     "output_type": "stream",
     "text": [
      "[[5.1 3.5 1.4 0.2]\n",
      " [4.9 3.  1.4 0.2]\n",
      " [4.7 3.2 1.3 0.2]\n",
      " [4.6 3.1 1.5 0.2]\n",
      " [5.  3.6 1.4 0.2]]\n"
     ]
    }
   ],
   "source": [
    "print(X[:5])"
   ]
  },
  {
   "cell_type": "code",
   "execution_count": 97,
   "metadata": {},
   "outputs": [
    {
     "name": "stdout",
     "output_type": "stream",
     "text": [
      "Index(['Sepal.Length', 'Sepal.Width', 'Petal.Length', 'Petal.Width'], dtype='object')\n"
     ]
    }
   ],
   "source": [
    "feature_names =data1.columns[0:4]\n",
    "print(feature_names)"
   ]
  },
  {
   "cell_type": "markdown",
   "metadata": {},
   "source": [
    "First we do Factor Analysis"
   ]
  },
  {
   "cell_type": "code",
   "execution_count": 98,
   "metadata": {},
   "outputs": [],
   "source": [
    "factor = FactorAnalysis(n_components=4).fit(X) #Components set to 4, which will appear as rows below"
   ]
  },
  {
   "cell_type": "code",
   "execution_count": 126,
   "metadata": {},
   "outputs": [
    {
     "name": "stdout",
     "output_type": "stream",
     "text": [
      "Explained variance by each component: [0.92461872 0.05306648 0.01710261 0.00521218]\n",
      "\n",
      "\n",
      "   Sepal.Length  Sepal.Width  Petal.Length  Petal.Width\n",
      "0      0.361387    -0.084523      0.856671     0.358289\n",
      "1      0.656589     0.730161     -0.173373    -0.075481\n",
      "2     -0.582030     0.597911      0.076236     0.545831\n",
      "3     -0.315487     0.319723      0.479839    -0.753657\n"
     ]
    }
   ],
   "source": [
    "#Apply the PCA fitting algorithm\n",
    "pca = PCA().fit(X)\n",
    "\n",
    "#Print the output, Explained variance by each component, npte using word components\n",
    "\n",
    "print('Explained variance by each component: %s' % pca.explained_variance_ratio_)\n",
    "print('\\n')\n",
    "print(pd.DataFrame(pca.components_,columns=feature_names))"
   ]
  },
  {
   "cell_type": "markdown",
   "metadata": {},
   "source": [
    "Now Reun using 2 components"
   ]
  },
  {
   "cell_type": "code",
   "execution_count": 128,
   "metadata": {},
   "outputs": [],
   "source": [
    "New_X =iris.data[:,0:3]"
   ]
  },
  {
   "cell_type": "code",
   "execution_count": 129,
   "metadata": {},
   "outputs": [],
   "source": [
    "feature_names = data1.columns[0:3]"
   ]
  },
  {
   "cell_type": "code",
   "execution_count": 130,
   "metadata": {},
   "outputs": [
    {
     "name": "stdout",
     "output_type": "stream",
     "text": [
      "[[5.1 3.5 1.4]\n",
      " [4.9 3.  1.4]\n",
      " [4.7 3.2 1.3]\n",
      " [4.6 3.1 1.5]\n",
      " [5.  3.6 1.4]]\n"
     ]
    }
   ],
   "source": [
    "print(New_X[:5])"
   ]
  },
  {
   "cell_type": "code",
   "execution_count": 131,
   "metadata": {},
   "outputs": [],
   "source": [
    "factor = FactorAnalysis(n_components=3).fit(New_X) #Components set to 3, which will appear as rows below"
   ]
  },
  {
   "cell_type": "code",
   "execution_count": 132,
   "metadata": {},
   "outputs": [
    {
     "name": "stdout",
     "output_type": "stream",
     "text": [
      "Explained variance by each component: [0.92464061 0.06046599 0.0148934 ]\n",
      "\n",
      "\n",
      "   Sepal.Length  Sepal.Width  Petal.Length\n",
      "0      0.389833    -0.091008      0.916377\n",
      "1      0.639223     0.743059     -0.198135\n",
      "2     -0.662890     0.663009      0.347844\n"
     ]
    }
   ],
   "source": [
    "#Apply the PCA fitting algorithm\n",
    "pca = PCA().fit(New_X)\n",
    "\n",
    "#Print the output, Explained variance by each component, npte using word components\n",
    "\n",
    "print('Explained variance by each component: %s' % pca.explained_variance_ratio_)\n",
    "print('\\n')\n",
    "print(pd.DataFrame(pca.components_,columns=feature_names))"
   ]
  },
  {
   "cell_type": "code",
   "execution_count": 125,
   "metadata": {},
   "outputs": [],
   "source": [
    "New2_X =iris.data[:,(0,2)]\n",
    "#New2_X =iris.data[:,0:3]"
   ]
  },
  {
   "cell_type": "code",
   "execution_count": 106,
   "metadata": {},
   "outputs": [
    {
     "name": "stdout",
     "output_type": "stream",
     "text": [
      "[[5.1 1.4]\n",
      " [4.9 1.4]\n",
      " [4.7 1.3]\n",
      " [4.6 1.5]\n",
      " [5.  1.4]]\n"
     ]
    }
   ],
   "source": [
    "print(New2_X[:5])"
   ]
  },
  {
   "cell_type": "code",
   "execution_count": 107,
   "metadata": {},
   "outputs": [],
   "source": [
    "feature_names = ['Sepal.Length','Petal.Length']"
   ]
  },
  {
   "cell_type": "code",
   "execution_count": 108,
   "metadata": {},
   "outputs": [],
   "source": [
    "factor = FactorAnalysis(n_components=3).fit(New2_X) #Components set to 3, which will appear as rows below"
   ]
  },
  {
   "cell_type": "code",
   "execution_count": 109,
   "metadata": {},
   "outputs": [
    {
     "name": "stdout",
     "output_type": "stream",
     "text": [
      "Explained variance by each component: [0.9631579 0.0368421]\n",
      "\n",
      "\n",
      "   Sepal.Length  Petal.Length\n",
      "0      0.393606      0.919279\n",
      "1     -0.919279      0.393606\n"
     ]
    }
   ],
   "source": [
    "#Apply the PCA fitting algorithm\n",
    "pca = PCA().fit(New2_X)\n",
    "\n",
    "#Print the output, Explained variance by each component, npte using word components\n",
    "\n",
    "print('Explained variance by each component: %s' % pca.explained_variance_ratio_)\n",
    "print('\\n')\n",
    "print(pd.DataFrame(pca.components_,columns=feature_names))"
   ]
  },
  {
   "cell_type": "code",
   "execution_count": 110,
   "metadata": {},
   "outputs": [],
   "source": [
    " X_train, X_test, Y_train, Y_test = train_test_split(X, Y, test_size=0.2, random_state=0)\n"
   ]
  },
  {
   "cell_type": "code",
   "execution_count": 116,
   "metadata": {},
   "outputs": [
    {
     "data": {
      "text/plain": [
       "1.0"
      ]
     },
     "execution_count": 116,
     "metadata": {},
     "output_type": "execute_result"
    }
   ],
   "source": [
    "model = neighbors.KNeighborsClassifier(n_neighbors=15)\n",
    "model.fit(X_train,Y_train)\n",
    "y_predict = model.predict(X_test)\n",
    "\n",
    "f1_score(Y_test,y_predict, average='macro')"
   ]
  },
  {
   "cell_type": "code",
   "execution_count": 117,
   "metadata": {},
   "outputs": [],
   "source": [
    "New2_X_train, New2_X_test, New2_Y_train, New2_Y_test = train_test_split(New2_X, Y, test_size=0.2, random_state=0)\n",
    "#print(New2_X_train,New2_Y_train)"
   ]
  },
  {
   "cell_type": "code",
   "execution_count": 115,
   "metadata": {},
   "outputs": [
    {
     "data": {
      "text/plain": [
       "0.957351290684624"
      ]
     },
     "execution_count": 115,
     "metadata": {},
     "output_type": "execute_result"
    }
   ],
   "source": [
    "model2 = neighbors.KNeighborsClassifier(n_neighbors=15)\n",
    "model2.fit(New2_X_train,New2_Y_train)\n",
    "\n",
    "y_predict2 = model2.predict(New2_X_test)\n",
    "\n",
    "\n",
    "f1_score(New2_Y_test,y_predict2, average='macro')\n",
    "\n"
   ]
  },
  {
   "cell_type": "markdown",
   "metadata": {},
   "source": [
    "What I think we are to say here is, PCA returns a score of 99% using the two choosen columns, it its also comfirms by running the same classifier on all columns of the Iris data, and using the first col and third column that we can get the same result just using two columns, so a good reduction. Using 4 and three components did not change much compared to using two"
   ]
  },
  {
   "cell_type": "code",
   "execution_count": null,
   "metadata": {},
   "outputs": [],
   "source": []
  }
 ],
 "metadata": {
  "kernelspec": {
   "display_name": "Python 3",
   "language": "python",
   "name": "python3"
  },
  "language_info": {
   "codemirror_mode": {
    "name": "ipython",
    "version": 3
   },
   "file_extension": ".py",
   "mimetype": "text/x-python",
   "name": "python",
   "nbconvert_exporter": "python",
   "pygments_lexer": "ipython3",
   "version": "3.8.10"
  }
 },
 "nbformat": 4,
 "nbformat_minor": 4
}
