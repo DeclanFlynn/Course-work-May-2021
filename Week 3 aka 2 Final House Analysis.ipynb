{
 "cells": [
  {
   "cell_type": "code",
   "execution_count": 12,
   "metadata": {
    "scrolled": true
   },
   "outputs": [],
   "source": [
    "import pandas as pd\n",
    "import numpy as np\n",
    "import scipy as scipy\n",
    "from scipy import stats\n"
   ]
  },
  {
   "cell_type": "code",
   "execution_count": 2,
   "metadata": {},
   "outputs": [
    {
     "data": {
      "text/plain": [
       "<bound method DataFrame.info of      Unnamed: 0     price  lotsize  bedrooms  bathrms  stories driveway  \\\n",
       "0             1   42000.0     5850         3        1        2      yes   \n",
       "1             2   38500.0     4000         2        1        1      yes   \n",
       "2             3   49500.0     3060         3        1        1      yes   \n",
       "3             4   60500.0     6650         3        1        2      yes   \n",
       "4             5   61000.0     6360         2        1        1      yes   \n",
       "..          ...       ...      ...       ...      ...      ...      ...   \n",
       "541         542   91500.0     4800         3        2        4      yes   \n",
       "542         543   94000.0     6000         3        2        4      yes   \n",
       "543         544  103000.0     6000         3        2        4      yes   \n",
       "544         545  105000.0     6000         3        2        2      yes   \n",
       "545         546  105000.0     6000         3        1        2      yes   \n",
       "\n",
       "    recroom fullbase gashw airco  garagepl prefarea  \n",
       "0        no      yes    no    no         1       no  \n",
       "1        no       no    no    no         0       no  \n",
       "2        no       no    no    no         0       no  \n",
       "3       yes       no    no    no         0       no  \n",
       "4        no       no    no    no         0       no  \n",
       "..      ...      ...   ...   ...       ...      ...  \n",
       "541     yes       no    no   yes         0       no  \n",
       "542      no       no    no   yes         0       no  \n",
       "543     yes       no    no   yes         1       no  \n",
       "544     yes       no    no   yes         1       no  \n",
       "545      no       no    no   yes         1       no  \n",
       "\n",
       "[546 rows x 13 columns]>"
      ]
     },
     "execution_count": 2,
     "metadata": {},
     "output_type": "execute_result"
    }
   ],
   "source": [
    "#Importing the csv from local folder\n",
    "houses = pd.read_csv('housing.csv')\n",
    "#A quick look at whats ciome in\n",
    "houses.info"
   ]
  },
  {
   "cell_type": "code",
   "execution_count": 4,
   "metadata": {},
   "outputs": [],
   "source": [
    "#There are a lot of count columns and also a lot yes and no columns.\n",
    "#So I will now construct two definitions to help sort this information later on"
   ]
  },
  {
   "cell_type": "code",
   "execution_count": 13,
   "metadata": {},
   "outputs": [],
   "source": [
    "def tally_count(target): #used to tally count columns, target is the column concerned\n",
    "    #initilise the variables\n",
    "    cur_max = 0; cur_no = 0; count = 0; cur_no; max_of = 0\n",
    "    max = target.max() #max value that object occurs e.g bedrooms\n",
    "    len_col = len(target) #full length of column\n",
    "    run_tot = [0]*max\n",
    "    \n",
    "    for i in range(len_col):\n",
    "       \n",
    "        for j in range(0,max):\n",
    "            if target[i]==j:\n",
    "               \n",
    "                run_tot[j]= run_tot[j]+1 #totaling up each feature as how often found\n",
    "                \n",
    "                \n",
    "    for k in range(0,max): #now counting up how often each object appears\n",
    "        print(\"For \",k,target.name,\" there is quantity is \", run_tot[k])\n",
    "        if run_tot[k] > max_of:\n",
    "            max_of = run_tot[k]\n",
    "            cur_no = k\n",
    "    #Ouput the most common and precent\n",
    "    print(\"For most common \",cur_no,target.name,\" precentage is \", max_of/(len_col/100),\"%\")\n",
    "   \n",
    "    return "
   ]
  },
  {
   "cell_type": "code",
   "execution_count": 31,
   "metadata": {},
   "outputs": [],
   "source": [
    "def tally_yes_no(target): #used to tally yes/no columns\n",
    "    sum0 = 0; sum1 = 0\n",
    "    len_col = len(target)\n",
    "   \n",
    "    for i in range(len_col):  #totaling up each feature as how often found\n",
    "        if (target[i]==\"yes\"):\n",
    "            sum0=sum0+1\n",
    "        if (target[i]==\"no\"):\n",
    "            sum1=sum1+1 \n",
    "      \n",
    "    total = sum0+sum1  #now counting up how often each object appears, noting its binary\n",
    "    \n",
    "    #Ouput the most common and precent\n",
    "    print(\"yes %\",sum0/(total/100),\"no %\",sum1/(total/100))\n",
    "    \n",
    "    print(\"no of yes's\",sum0,\"no of no's\",sum1,\"total \",total)\n",
    "    return "
   ]
  },
  {
   "cell_type": "code",
   "execution_count": 32,
   "metadata": {},
   "outputs": [],
   "source": [
    "#Price and lot size being quantative data would be suitable for a quick look"
   ]
  },
  {
   "cell_type": "code",
   "execution_count": 33,
   "metadata": {
    "scrolled": true
   },
   "outputs": [],
   "source": [
    "#Lotsize, however this could be confounded with Stories and fullbase, more stories higher price, possibly less area?"
   ]
  },
  {
   "cell_type": "code",
   "execution_count": 20,
   "metadata": {},
   "outputs": [],
   "source": [
    "#Now lets start by plotting price v lotsize"
   ]
  },
  {
   "cell_type": "code",
   "execution_count": 21,
   "metadata": {},
   "outputs": [
    {
     "data": {
      "image/png": "[encoded data removed]",
      "text/plain": [
       "<Figure size 432x288 with 1 Axes>"
      ]
     },
     "metadata": {
      "needs_background": "light"
     },
     "output_type": "display_data"
    }
   ],
   "source": [
    "#Try price against lot size\n",
    "houses.plot.scatter(x=\"price\", y=\"lotsize\");"
   ]
  },
  {
   "cell_type": "code",
   "execution_count": 22,
   "metadata": {},
   "outputs": [
    {
     "name": "stdout",
     "output_type": "stream",
     "text": [
      "LinregressResult(slope=0.04350463911837908, intercept=2186.6600710851167, rvalue=0.5357956724321841, pvalue=6.769899509222409e-42, stderr=0.0029393968960298245)\n",
      "R sq val is  0.54 not great\n"
     ]
    }
   ],
   "source": [
    "#Maybe association, lets try a linear regression line\n",
    "x = houses[\"price\"]\n",
    "y = houses[\"lotsize\"]\n",
    "\n",
    "res = stats.linregress(x, y)\n",
    "print(res)\n",
    "print(\"R sq val is \",0.54, \"not great\")"
   ]
  },
  {
   "cell_type": "code",
   "execution_count": 23,
   "metadata": {},
   "outputs": [],
   "source": [
    "# Now move onto next column i,e. Bedrooms"
   ]
  },
  {
   "cell_type": "code",
   "execution_count": 13,
   "metadata": {},
   "outputs": [
    {
     "name": "stdout",
     "output_type": "stream",
     "text": [
      "For  0 bedrooms  there is quantity is  0\n",
      "For  1 bedrooms  there is quantity is  2\n",
      "For  2 bedrooms  there is quantity is  136\n",
      "For  3 bedrooms  there is quantity is  301\n",
      "For  4 bedrooms  there is quantity is  95\n",
      "For  5 bedrooms  there is quantity is  10\n",
      "For most common  3 bedrooms  precentage is  55.12820512820513 %\n"
     ]
    }
   ],
   "source": [
    "target = houses[\"bedrooms\"] # call count tally definition\n",
    "tally_count(target)\n"
   ]
  },
  {
   "cell_type": "code",
   "execution_count": 14,
   "metadata": {},
   "outputs": [
    {
     "data": {
      "text/plain": [
       "<AxesSubplot:>"
      ]
     },
     "execution_count": 14,
     "metadata": {},
     "output_type": "execute_result"
    },
    {
     "data": {
      "image/png": "[encoded data removed]",
      "text/plain": [
       "<Figure size 432x288 with 1 Axes>"
      ]
     },
     "metadata": {
      "needs_background": "light"
     },
     "output_type": "display_data"
    }
   ],
   "source": [
    "# Have a look at a boxplot\n",
    "box_group = houses[[\"bedrooms\"]]\n",
    "box_group.plot.box()"
   ]
  },
  {
   "cell_type": "code",
   "execution_count": 36,
   "metadata": {},
   "outputs": [
    {
     "name": "stdout",
     "output_type": "stream",
     "text": [
      "LinregressResult(slope=1.0119357059698813e-05, intercept=2.27585470097728, rvalue=0.3664473586641068, pvalue=8.533170549384768e-19, stderr=1.1016145929875764e-06)\n",
      "R sq val is  0.37 not great\n"
     ]
    }
   ],
   "source": [
    "#Quick check for an association\n",
    "x = houses[\"price\"]\n",
    "y = houses[\"bedrooms\"]\n",
    "res2 = stats.linregress(x, y)\n",
    "print(res2)\n",
    "print(\"R sq val is \",0.37, \"not great, so assume no correlation\")"
   ]
  },
  {
   "cell_type": "code",
   "execution_count": 27,
   "metadata": {},
   "outputs": [],
   "source": [
    "#Next Bathrooms"
   ]
  },
  {
   "cell_type": "code",
   "execution_count": 14,
   "metadata": {},
   "outputs": [
    {
     "name": "stdout",
     "output_type": "stream",
     "text": [
      "For  0 bathrms  there is quantity is  0\n",
      "For  1 bathrms  there is quantity is  402\n",
      "For  2 bathrms  there is quantity is  133\n",
      "For  3 bathrms  there is quantity is  10\n",
      "For most common  1 bathrms  precentage is  73.62637362637362 %\n"
     ]
    }
   ],
   "source": [
    "target = houses[\"bathrms\"] # call count tally definition\n",
    "tally_count(target)\n"
   ]
  },
  {
   "cell_type": "code",
   "execution_count": 29,
   "metadata": {},
   "outputs": [],
   "source": [
    "#Next Driveways"
   ]
  },
  {
   "cell_type": "code",
   "execution_count": 24,
   "metadata": {},
   "outputs": [
    {
     "name": "stdout",
     "output_type": "stream",
     "text": [
      "yes % 85.8974358974359 no % 14.102564102564102\n",
      "no of yes's 469 no of no's 77 total  546\n"
     ]
    }
   ],
   "source": [
    "target = houses[\"driveway\"] # call yes/no tally definition\n",
    "tally_yes_no(target)"
   ]
  },
  {
   "cell_type": "code",
   "execution_count": null,
   "metadata": {},
   "outputs": [],
   "source": [
    "#So next choose prices with and without driveway to see if thers is an association\n",
    "\n",
    "#Pull out relavent columns\n",
    "price_with_drive_alldata = houses[[\"price\",\"driveway\"]]\n",
    "\n",
    "#Select price with drive\n",
    "price_with_drive = price_with_drive_alldata[[\"price\"] & (price_with_drive_alldata[\"driveway\"]==\"yes\")]\n",
    "price_with_drive_only = price_with_drive[\"price\"]\n",
    "print(\"price with drive only\",'\\n',price_with_drive_only)\n",
    "print(\"Length of with drive column\",len(price_with_drive))\n",
    "\n",
    "#Select price without drive\n",
    "price_without_drive = price_with_drive_alldata[[\"price\"] & (price_with_drive_alldata[\"driveway\"]==\"no\")]\n",
    "price_without_drive_only = price_without_drive[\"price\"]\n",
    "print(\"price without drive only\",'\\n',price_without_drive_only)\n",
    "print(\"Length of without drive column\",len(price_without_drive))\n",
    "\n",
    "#So we have a col length of 469 and 77, try means\n",
    "print(\"Mean of with drive column\",price_with_drive.mean())\n",
    "print(\"Mean of without drive column\",price_without_drive.mean())\n",
    "#Significent difference of means\n"
   ]
  },
  {
   "cell_type": "code",
   "execution_count": 31,
   "metadata": {},
   "outputs": [],
   "source": [
    "#Gas water Heaters"
   ]
  },
  {
   "cell_type": "code",
   "execution_count": 38,
   "metadata": {},
   "outputs": [
    {
     "name": "stdout",
     "output_type": "stream",
     "text": [
      "yes % 4.5787545787545785 no % 95.42124542124542\n",
      "no of yes's 25 no of no's 521 total  546\n"
     ]
    }
   ],
   "source": [
    "target = houses[\"gashw\"] # call yes/no tally definition\n",
    "tally_yes_no(target)"
   ]
  },
  {
   "cell_type": "code",
   "execution_count": 11,
   "metadata": {},
   "outputs": [
    {
     "name": "stdout",
     "output_type": "stream",
     "text": [
      "Price with gas heating         price gashw\n",
      "53    95000.0   yes\n",
      "102  125000.0   yes\n",
      "103  132000.0   yes\n",
      "116   93000.0   yes\n",
      "125   95000.0   yes\n",
      "\n",
      "\n",
      "Price without gas heating      price gashw\n",
      "0  42000.0    no\n",
      "1  38500.0    no\n",
      "2  49500.0    no\n",
      "3  60500.0    no\n",
      "4  61000.0    no\n",
      "\n",
      "\n",
      "mean with price    79428.0\n",
      "dtype: float64\n",
      "mean without price    67579.06334\n",
      "dtype: float64\n",
      "\n",
      "\n",
      "median with price    76900.0\n",
      "dtype: float64\n",
      "median without price    62000.0\n",
      "dtype: float64\n",
      "\n",
      "\n",
      "Length 1 price    25\n",
      "gashw    25\n",
      "dtype: int64\n",
      "Length 2 price    521\n",
      "gashw    521\n",
      "dtype: int64\n"
     ]
    }
   ],
   "source": [
    "price_with_gashw_alldata = houses[[\"price\",\"gashw\"]]\n",
    "\n",
    "#Pull out price with water heater and price without water heater fo comparision\n",
    "price_with_gas_water =  price_with_gashw_alldata[[\"price\"] & (price_with_gashw_alldata[\"gashw\"]==\"yes\")]\n",
    "print(\"Price with gas heating\",price_with_gas_water.head())\n",
    "print('\\n')\n",
    "price_without_gas_water = price_with_gashw_alldata[[\"price\"] & (price_with_gashw_alldata[\"gashw\"]==\"no\")]\n",
    "print(\"Price without gas heating\",price_without_gas_water.head())\n",
    "print('\\n')\n",
    "\n",
    "#Finding the mean price with water heater\n",
    "print(\"mean with\",price_with_gas_water.mean())\n",
    "#Finding the mean price without water heater\n",
    "print(\"mean without\",price_without_gas_water.mean())\n",
    "print('\\n')\n",
    "\n",
    "#Finding the median price with water heater\n",
    "print(\"median with\",price_with_gas_water.median())\n",
    "#Finding the median price without water heater\n",
    "print(\"median without\",price_without_gas_water.median())\n",
    "\n",
    "#for Statistics lets check column lengths, we also know from just above we have an issue, n= 25 and n = 521\n",
    "print('\\n')\n",
    "print(\"Length 1\",price_with_gas_water.count())\n",
    "print(\"Length 2\",price_without_gas_water.count())\n"
   ]
  },
  {
   "cell_type": "code",
   "execution_count": 41,
   "metadata": {},
   "outputs": [
    {
     "name": "stdout",
     "output_type": "stream",
     "text": [
      "Performing normality tests\n",
      "ShapiroResult(statistic=0.9445392489433289, pvalue=0.18832135200500488)\n",
      "ShapiroResult(statistic=0.9187494516372681, pvalue=3.9396230295736555e-16)\n"
     ]
    }
   ],
   "source": [
    "#We have the different n, but that is fine for normality, so first check for normality\n",
    "# Step 1: Test for normality within the groups. We can use the Shapiro test for this\n",
    "# Is p > 0.05 to assume normality?\n",
    "print(\"Performing normality tests\")\n",
    "print(stats.shapiro(price_with_gas_water[\"price\"]))\n",
    "print(stats.shapiro(price_without_gas_water[\"price\"]))"
   ]
  },
  {
   "cell_type": "code",
   "execution_count": 51,
   "metadata": {},
   "outputs": [
    {
     "name": "stdout",
     "output_type": "stream",
     "text": [
      "Performing mann whitnet test for non normal data\n"
     ]
    },
    {
     "data": {
      "text/plain": [
       "MannwhitneyuResult(statistic=4980.0, pvalue=0.023385630065073593)"
      ]
     },
     "execution_count": 51,
     "metadata": {},
     "output_type": "execute_result"
    }
   ],
   "source": [
    "# The columns are not normaly distributed and have unequal n values\n",
    "# Null Hypothesis for this test is our medians are equal\n",
    "\n",
    "#Continue with mann whitney test for non-normal and different n values\n",
    "\n",
    "print(\"Performing mann whitney test for non normal data and unequal n\")\n",
    "x = price_with_gas_water[\"price\"]\n",
    "y = price_without_gas_water[\"price\"]\n",
    "scipy.stats.mannwhitneyu(x, y, use_continuity=True, alternative=None)\n"
   ]
  },
  {
   "cell_type": "code",
   "execution_count": null,
   "metadata": {},
   "outputs": [],
   "source": [
    "#\"if p is low the null hypotheses must go\" i,e. <0.05 so they medians are not equal"
   ]
  },
  {
   "cell_type": "code",
   "execution_count": null,
   "metadata": {},
   "outputs": [],
   "source": [
    "#Number of Stories"
   ]
  },
  {
   "cell_type": "code",
   "execution_count": 15,
   "metadata": {},
   "outputs": [
    {
     "name": "stdout",
     "output_type": "stream",
     "text": [
      "For  0 stories  there is quantity is  0\n",
      "For  1 stories  there is quantity is  227\n",
      "For  2 stories  there is quantity is  238\n",
      "For  3 stories  there is quantity is  40\n",
      "For most common  2 stories  precentage is  43.58974358974359 %\n"
     ]
    }
   ],
   "source": [
    "target = houses[\"stories\"] # call count tally definition\n",
    "tally_count(target)"
   ]
  },
  {
   "cell_type": "code",
   "execution_count": null,
   "metadata": {},
   "outputs": [],
   "source": [
    "#Recreation room"
   ]
  },
  {
   "cell_type": "code",
   "execution_count": 27,
   "metadata": {},
   "outputs": [
    {
     "name": "stdout",
     "output_type": "stream",
     "text": [
      "yes % 17.765567765567766 no % 82.23443223443223\n",
      "no of yes's 97 no of no's 449 total  546\n"
     ]
    }
   ],
   "source": [
    "target = houses[\"recroom\"] # call yes/no tally definition\n",
    "tally_yes_no(target)"
   ]
  },
  {
   "cell_type": "code",
   "execution_count": null,
   "metadata": {},
   "outputs": [],
   "source": [
    "#Full base? assume \"full basement\""
   ]
  },
  {
   "cell_type": "code",
   "execution_count": 28,
   "metadata": {},
   "outputs": [
    {
     "name": "stdout",
     "output_type": "stream",
     "text": [
      "yes % 34.981684981684985 no % 65.01831501831502\n",
      "no of yes's 191 no of no's 355 total  546\n"
     ]
    }
   ],
   "source": [
    "target = houses[\"fullbase\"] # call yes/no tally definition\n",
    "tally_yes_no(target)"
   ]
  },
  {
   "cell_type": "code",
   "execution_count": null,
   "metadata": {},
   "outputs": [],
   "source": [
    "#Air conditioning"
   ]
  },
  {
   "cell_type": "code",
   "execution_count": 29,
   "metadata": {},
   "outputs": [
    {
     "name": "stdout",
     "output_type": "stream",
     "text": [
      "yes % 31.684981684981686 no % 68.31501831501832\n",
      "no of yes's 173 no of no's 373 total  546\n"
     ]
    }
   ],
   "source": [
    "target = houses[\"airco\"] # call yes/no tally definition\n",
    "tally_yes_no(target)"
   ]
  },
  {
   "cell_type": "code",
   "execution_count": null,
   "metadata": {},
   "outputs": [],
   "source": [
    "#Is there a correlation between air conditioning and gas water heaters? \"if p is low the null hypotheses must go\" i,e. <0.05 "
   ]
  },
  {
   "cell_type": "code",
   "execution_count": 5,
   "metadata": {},
   "outputs": [],
   "source": [
    "obs = [[25,521],[173,373]] #The yes/no data for each column"
   ]
  },
  {
   "cell_type": "code",
   "execution_count": 7,
   "metadata": {},
   "outputs": [
    {
     "data": {
      "text/plain": [
       "(133.30750457596096,\n",
       " 7.743852183694094e-31,\n",
       " 1,\n",
       " array([[ 99., 447.],\n",
       "        [ 99., 447.]]))"
      ]
     },
     "execution_count": 7,
     "metadata": {},
     "output_type": "execute_result"
    }
   ],
   "source": [
    "scipy.stats.chi2_contingency(obs, correction=True, lambda_=None)"
   ]
  },
  {
   "cell_type": "code",
   "execution_count": null,
   "metadata": {},
   "outputs": [],
   "source": [
    "# so p is 7.743852183694094e-31, there is no correlation between aircon and gas water heating"
   ]
  },
  {
   "cell_type": "code",
   "execution_count": null,
   "metadata": {},
   "outputs": [],
   "source": [
    "#Is there a garage?"
   ]
  },
  {
   "cell_type": "code",
   "execution_count": 16,
   "metadata": {},
   "outputs": [
    {
     "name": "stdout",
     "output_type": "stream",
     "text": [
      "For  0 garagepl  there is quantity is  300\n",
      "For  1 garagepl  there is quantity is  126\n",
      "For  2 garagepl  there is quantity is  108\n",
      "For most common  0 garagepl  precentage is  54.94505494505495 %\n"
     ]
    }
   ],
   "source": [
    "target = houses[\"garagepl\"] # call count tally definition\n",
    "tally_count(target)"
   ]
  },
  {
   "cell_type": "code",
   "execution_count": null,
   "metadata": {},
   "outputs": [],
   "source": [
    "#Prrferred area"
   ]
  },
  {
   "cell_type": "code",
   "execution_count": 30,
   "metadata": {},
   "outputs": [
    {
     "name": "stdout",
     "output_type": "stream",
     "text": [
      "yes % 23.44322344322344 no % 76.55677655677655\n",
      "no of yes's 128 no of no's 418 total  546\n"
     ]
    }
   ],
   "source": [
    "target = houses[\"prefarea\"] # call yes/no tally definition\n",
    "tally_yes_no(target)"
   ]
  },
  {
   "cell_type": "code",
   "execution_count": null,
   "metadata": {},
   "outputs": [],
   "source": [
    "#We could dice this data for hours, but I will just look at the most popolar configurations in this data"
   ]
  },
  {
   "cell_type": "code",
   "execution_count": 52,
   "metadata": {},
   "outputs": [
    {
     "name": "stdout",
     "output_type": "stream",
     "text": [
      "Most common features house price \n",
      "        price  bedrooms  bathrms  stories driveway recroom fullbase gashw  \\\n",
      "12   27000.0         3        1        2      yes      no       no    no   \n",
      "49   54800.0         3        1        2      yes      no       no    no   \n",
      "58   35500.0         3        1        2      yes      no       no    no   \n",
      "59   30000.0         3        1        2      yes      no       no    no   \n",
      "63   54000.0         3        1        2      yes      no       no    no   \n",
      "73   34000.0         3        1        2      yes      no       no    no   \n",
      "82   50000.0         3        1        2      yes      no       no    no   \n",
      "131  44500.0         3        1        2      yes      no       no    no   \n",
      "136  46000.0         3        1        2      yes      no       no    no   \n",
      "139  43000.0         3        1        2      yes      no       no    no   \n",
      "140  56000.0         3        1        2      yes      no       no    no   \n",
      "181  50000.0         3        1        2      yes      no       no    no   \n",
      "183  63900.0         3        1        2      yes      no       no    no   \n",
      "232  25000.0         3        1        2      yes      no       no    no   \n",
      "247  42000.0         3        1        2      yes      no       no    no   \n",
      "278  57000.0         3        1        2      yes      no       no    no   \n",
      "339  62500.0         3        1        2      yes      no       no    no   \n",
      "\n",
      "    airco  garagepl prefarea  \n",
      "12     no         0       no  \n",
      "49     no         0       no  \n",
      "58     no         0       no  \n",
      "59     no         0       no  \n",
      "63     no         0       no  \n",
      "73     no         0       no  \n",
      "82     no         0       no  \n",
      "131    no         0       no  \n",
      "136    no         0       no  \n",
      "139    no         0       no  \n",
      "140    no         0       no  \n",
      "181    no         0       no  \n",
      "183    no         0       no  \n",
      "232    no         0       no  \n",
      "247    no         0       no  \n",
      "278    no         0       no  \n",
      "339    no         0       no  \n"
     ]
    }
   ],
   "source": [
    "ideal_house = houses[(houses[\"price\"]>0) & (houses[\"bedrooms\"]==3) & (houses[\"bathrms\"]==1) & (houses[\"stories\"]==2) & (houses[\"driveway\"] == \"yes\") & (houses[\"recroom\"]==\"no\") & (houses[\"fullbase\"] == \"no\") & (houses[\"gashw\"] == \"no\") & (houses[\"airco\"] == \"no\") & (houses[\"garagepl\"] == 0) & (houses[\"prefarea\"] == \"no\")]\n",
    "print(\"Most common features house price\",'\\n',ideal_house[[\"price\",\"bedrooms\",\"bathrms\",\"stories\",\"driveway\",\"recroom\",\"fullbase\",\"gashw\",\"airco\",\"garagepl\",\"prefarea\"]])"
   ]
  },
  {
   "cell_type": "code",
   "execution_count": null,
   "metadata": {},
   "outputs": [],
   "source": [
    "#Please note that Lotsize data below needs to be ignored as its not linked correctly"
   ]
  },
  {
   "cell_type": "code",
   "execution_count": 53,
   "metadata": {},
   "outputs": [
    {
     "data": {
      "text/plain": [
       "Unnamed: 0    17\n",
       "price         17\n",
       "lotsize       17\n",
       "bedrooms      17\n",
       "bathrms       17\n",
       "stories       17\n",
       "driveway      17\n",
       "recroom       17\n",
       "fullbase      17\n",
       "gashw         17\n",
       "airco         17\n",
       "garagepl      17\n",
       "prefarea      17\n",
       "dtype: int64"
      ]
     },
     "execution_count": 53,
     "metadata": {},
     "output_type": "execute_result"
    }
   ],
   "source": [
    "ideal_house.count()"
   ]
  },
  {
   "cell_type": "code",
   "execution_count": 54,
   "metadata": {},
   "outputs": [
    {
     "data": {
      "text/plain": [
       "Unnamed: 0       13\n",
       "price         25000\n",
       "lotsize        1700\n",
       "bedrooms          3\n",
       "bathrms           1\n",
       "stories           2\n",
       "driveway        yes\n",
       "recroom          no\n",
       "fullbase         no\n",
       "gashw            no\n",
       "airco            no\n",
       "garagepl          0\n",
       "prefarea         no\n",
       "dtype: object"
      ]
     },
     "execution_count": 54,
     "metadata": {},
     "output_type": "execute_result"
    }
   ],
   "source": [
    "ideal_house.min()"
   ]
  },
  {
   "cell_type": "code",
   "execution_count": 55,
   "metadata": {},
   "outputs": [
    {
     "data": {
      "text/plain": [
       "Unnamed: 0      340\n",
       "price         63900\n",
       "lotsize        6615\n",
       "bedrooms          3\n",
       "bathrms           1\n",
       "stories           2\n",
       "driveway        yes\n",
       "recroom          no\n",
       "fullbase         no\n",
       "gashw            no\n",
       "airco            no\n",
       "garagepl          0\n",
       "prefarea         no\n",
       "dtype: object"
      ]
     },
     "execution_count": 55,
     "metadata": {},
     "output_type": "execute_result"
    }
   ],
   "source": [
    "ideal_house.max()"
   ]
  },
  {
   "cell_type": "code",
   "execution_count": null,
   "metadata": {},
   "outputs": [],
   "source": [
    "#Lotsize data needs to be ignored as its not linked correctly"
   ]
  }
 ],
 "metadata": {
  "kernelspec": {
   "display_name": "Python 3",
   "language": "python",
   "name": "python3"
  },
  "language_info": {
   "codemirror_mode": {
    "name": "ipython",
    "version": 3
   },
   "file_extension": ".py",
   "mimetype": "text/x-python",
   "name": "python",
   "nbconvert_exporter": "python",
   "pygments_lexer": "ipython3",
   "version": "3.8.5"
  }
 },
 "nbformat": 4,
 "nbformat_minor": 4
}
