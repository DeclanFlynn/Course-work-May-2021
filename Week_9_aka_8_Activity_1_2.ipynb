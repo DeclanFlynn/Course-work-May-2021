{
 "cells": [
  {
   "cell_type": "markdown",
   "id": "b037f35d",
   "metadata": {},
   "source": [
    "Activity 1.2\n",
    "An alternative to the Fashion MNIST dataset is the Digit MNIST dataset which we have seen from another example. Your task is to load the dataset using the function below, and using a CNN build a classifier for judging the digit of an input using proper model validation, scaling and metrics.\n",
    "\n",
    "Then, try creating an image yourself to test the model out! You will need to use Microsoft Paint (or equivilent) and ensure the size of the image is correct with the input!"
   ]
  },
  {
   "cell_type": "code",
   "execution_count": 60,
   "id": "4430981b",
   "metadata": {},
   "outputs": [],
   "source": [
    "# Import tensorflow and keras, you need condo for this\n",
    "import tensorflow as tf\n",
    "from tensorflow import keras\n",
    "from tensorflow.keras.layers import Dense, Conv2D, Flatten, MaxPooling2D, InputLayer\n",
    "from tensorflow.keras.utils import to_categorical\n",
    "\n",
    "# Commonly used modules\n",
    "import numpy as np\n",
    "import pandas as pd\n",
    "import matplotlib.pyplot as plt\n",
    "\n",
    "# sklearn tools\n",
    "from sklearn.preprocessing import MinMaxScaler\n",
    "from sklearn.model_selection import train_test_split\n",
    "from sklearn.metrics import mean_absolute_error, f1_score"
   ]
  },
  {
   "cell_type": "code",
   "execution_count": 61,
   "id": "f6cfa1ed",
   "metadata": {},
   "outputs": [],
   "source": [
    "# The function below will load the dataset.\n",
    "# For information about the dataset, go to the url below:\n",
    "# https://keras.io/api/datasets/mnist/\n",
    "(x_train, y_train), (x_test, y_test) = keras.datasets.mnist.load_data()"
   ]
  },
  {
   "cell_type": "code",
   "execution_count": 62,
   "id": "62e9634f",
   "metadata": {
    "scrolled": true
   },
   "outputs": [
    {
     "data": {
      "image/png": "[encoded data removed]",
      "text/plain": [
       "<Figure size 720x720 with 9 Axes>"
      ]
     },
     "metadata": {
      "needs_background": "light"
     },
     "output_type": "display_data"
    }
   ],
   "source": [
    "# Plot some images\n",
    "fig, axes = plt.subplots(3, 3, figsize=(10, 10))\n",
    "\n",
    "for idx, ax in enumerate(axes.flatten()):\n",
    "    ax.imshow(x_train[idx], cmap='Greys')\n",
    "    ax.set_title(y_train[idx])\n",
    "\n",
    "plt.tight_layout()\n",
    "plt.show()"
   ]
  },
  {
   "cell_type": "code",
   "execution_count": 63,
   "id": "2fdb377e",
   "metadata": {},
   "outputs": [],
   "source": [
    "# One hot encode y_train, y_test\n",
    "y_train = to_categorical(y_train)\n",
    "y_test = to_categorical(y_test)"
   ]
  },
  {
   "cell_type": "code",
   "execution_count": 64,
   "id": "c422e94c",
   "metadata": {},
   "outputs": [],
   "source": [
    "# Reshape so 1 image is one sample\n",
    "x_train = x_train.reshape((x_train.shape[0], 28, 28, 1))\n",
    "x_test = x_test.reshape((x_test.shape[0], 28, 28, 1))\n"
   ]
  },
  {
   "cell_type": "code",
   "execution_count": 65,
   "id": "ad1a13d7",
   "metadata": {},
   "outputs": [
    {
     "name": "stdout",
     "output_type": "stream",
     "text": [
      "(60000, 28, 28, 1)\n"
     ]
    }
   ],
   "source": [
    "# Finally scale to (0, 1)\n",
    "x_train = x_train.astype(\"float32\") / 255\n",
    "x_train = x_train.reshape((x_train.shape[0], 28, 28, 1))\n",
    "print(x_train.shape)\n",
    "x_test = x_test.astype(\"float32\") / 255\n",
    "x_test = x_test.reshape((x_test.shape[0], 28, 28, 1))"
   ]
  },
  {
   "cell_type": "code",
   "execution_count": 66,
   "id": "7fa07b2a",
   "metadata": {},
   "outputs": [
    {
     "name": "stdout",
     "output_type": "stream",
     "text": [
      "Model: \"sequential_2\"\n",
      "_________________________________________________________________\n",
      "Layer (type)                 Output Shape              Param #   \n",
      "=================================================================\n",
      "conv2d_4 (Conv2D)            (None, 26, 26, 32)        320       \n",
      "_________________________________________________________________\n",
      "max_pooling2d_4 (MaxPooling2 (None, 13, 13, 32)        0         \n",
      "_________________________________________________________________\n",
      "conv2d_5 (Conv2D)            (None, 11, 11, 64)        18496     \n",
      "_________________________________________________________________\n",
      "max_pooling2d_5 (MaxPooling2 (None, 5, 5, 64)          0         \n",
      "_________________________________________________________________\n",
      "flatten_2 (Flatten)          (None, 1600)              0         \n",
      "_________________________________________________________________\n",
      "dense_4 (Dense)              (None, 100)               160100    \n",
      "_________________________________________________________________\n",
      "dense_5 (Dense)              (None, 10)                1010      \n",
      "=================================================================\n",
      "Total params: 179,926\n",
      "Trainable params: 179,926\n",
      "Non-trainable params: 0\n",
      "_________________________________________________________________\n"
     ]
    }
   ],
   "source": [
    "model = keras.Sequential(\n",
    "    [\n",
    "        Conv2D(32, (3, 3), activation='relu', input_shape=(28, 28, 1)),\n",
    "        MaxPooling2D((2, 2)),\n",
    "        Conv2D(64, (3, 3), activation='relu'),\n",
    "        MaxPooling2D((2, 2)),\n",
    "        Flatten(),\n",
    "\t    Dense(100, activation='relu'),\n",
    "\t    Dense(10, activation='softmax')\n",
    "    ]\n",
    ")\n",
    "\n",
    "model.compile(optimizer=tf.keras.optimizers.Adam(), \n",
    "              loss='categorical_crossentropy', \n",
    "              metrics=['accuracy'])\n",
    "\n",
    "model.summary()"
   ]
  },
  {
   "cell_type": "code",
   "execution_count": 67,
   "id": "f42581ce",
   "metadata": {},
   "outputs": [],
   "source": [
    " \n",
    "history = model.fit(x_train, y_train, epochs=10, batch_size=32, validation_data=(x_test, y_test), verbose=0)\n",
    "#evaluate model\n",
    "#history = model.fit(x_train, \n",
    "                    #y_train, \n",
    "                    #epochs=1, \n",
    "                   #batch_size=1,\n",
    "                    #verbose=1, \n",
    "                   #validation_split=0.)"
   ]
  },
  {
   "cell_type": "code",
   "execution_count": 68,
   "id": "64d274a1",
   "metadata": {},
   "outputs": [
    {
     "data": {
      "text/html": [
       "<div>\n",
       "<style scoped>\n",
       "    .dataframe tbody tr th:only-of-type {\n",
       "        vertical-align: middle;\n",
       "    }\n",
       "\n",
       "    .dataframe tbody tr th {\n",
       "        vertical-align: top;\n",
       "    }\n",
       "\n",
       "    .dataframe thead th {\n",
       "        text-align: right;\n",
       "    }\n",
       "</style>\n",
       "<table border=\"1\" class=\"dataframe\">\n",
       "  <thead>\n",
       "    <tr style=\"text-align: right;\">\n",
       "      <th></th>\n",
       "      <th>loss</th>\n",
       "      <th>accuracy</th>\n",
       "      <th>val_loss</th>\n",
       "      <th>val_accuracy</th>\n",
       "    </tr>\n",
       "  </thead>\n",
       "  <tbody>\n",
       "    <tr>\n",
       "      <th>0</th>\n",
       "      <td>0.132481</td>\n",
       "      <td>0.960167</td>\n",
       "      <td>0.055492</td>\n",
       "      <td>0.9814</td>\n",
       "    </tr>\n",
       "    <tr>\n",
       "      <th>1</th>\n",
       "      <td>0.042833</td>\n",
       "      <td>0.986950</td>\n",
       "      <td>0.034851</td>\n",
       "      <td>0.9883</td>\n",
       "    </tr>\n",
       "    <tr>\n",
       "      <th>2</th>\n",
       "      <td>0.029850</td>\n",
       "      <td>0.990233</td>\n",
       "      <td>0.033420</td>\n",
       "      <td>0.9890</td>\n",
       "    </tr>\n",
       "    <tr>\n",
       "      <th>3</th>\n",
       "      <td>0.021767</td>\n",
       "      <td>0.992917</td>\n",
       "      <td>0.033140</td>\n",
       "      <td>0.9898</td>\n",
       "    </tr>\n",
       "    <tr>\n",
       "      <th>4</th>\n",
       "      <td>0.016604</td>\n",
       "      <td>0.994567</td>\n",
       "      <td>0.030327</td>\n",
       "      <td>0.9906</td>\n",
       "    </tr>\n",
       "    <tr>\n",
       "      <th>5</th>\n",
       "      <td>0.012805</td>\n",
       "      <td>0.996133</td>\n",
       "      <td>0.036972</td>\n",
       "      <td>0.9888</td>\n",
       "    </tr>\n",
       "    <tr>\n",
       "      <th>6</th>\n",
       "      <td>0.011199</td>\n",
       "      <td>0.996183</td>\n",
       "      <td>0.038040</td>\n",
       "      <td>0.9895</td>\n",
       "    </tr>\n",
       "    <tr>\n",
       "      <th>7</th>\n",
       "      <td>0.009912</td>\n",
       "      <td>0.996850</td>\n",
       "      <td>0.040073</td>\n",
       "      <td>0.9882</td>\n",
       "    </tr>\n",
       "    <tr>\n",
       "      <th>8</th>\n",
       "      <td>0.006993</td>\n",
       "      <td>0.997800</td>\n",
       "      <td>0.043764</td>\n",
       "      <td>0.9889</td>\n",
       "    </tr>\n",
       "    <tr>\n",
       "      <th>9</th>\n",
       "      <td>0.006716</td>\n",
       "      <td>0.997767</td>\n",
       "      <td>0.034317</td>\n",
       "      <td>0.9915</td>\n",
       "    </tr>\n",
       "  </tbody>\n",
       "</table>\n",
       "</div>"
      ],
      "text/plain": [
       "       loss  accuracy  val_loss  val_accuracy\n",
       "0  0.132481  0.960167  0.055492        0.9814\n",
       "1  0.042833  0.986950  0.034851        0.9883\n",
       "2  0.029850  0.990233  0.033420        0.9890\n",
       "3  0.021767  0.992917  0.033140        0.9898\n",
       "4  0.016604  0.994567  0.030327        0.9906\n",
       "5  0.012805  0.996133  0.036972        0.9888\n",
       "6  0.011199  0.996183  0.038040        0.9895\n",
       "7  0.009912  0.996850  0.040073        0.9882\n",
       "8  0.006993  0.997800  0.043764        0.9889\n",
       "9  0.006716  0.997767  0.034317        0.9915"
      ]
     },
     "execution_count": 68,
     "metadata": {},
     "output_type": "execute_result"
    }
   ],
   "source": [
    "history_df = pd.DataFrame(history.history)\n",
    "history_df"
   ]
  },
  {
   "cell_type": "code",
   "execution_count": 69,
   "id": "07abcc24",
   "metadata": {},
   "outputs": [
    {
     "data": {
      "image/png": "[encoded data removed]",
      "text/plain": [
       "<Figure size 720x720 with 2 Axes>"
      ]
     },
     "metadata": {
      "needs_background": "light"
     },
     "output_type": "display_data"
    }
   ],
   "source": [
    "fig, (ax1, ax2) = plt.subplots(2, 1, figsize=(10, 10))\n",
    "\n",
    "ax1.plot(history_df['loss'], label=\"Training CCE\")\n",
    "ax1.plot(history_df['val_loss'], label='Validation CCE')\n",
    "ax1.legend()\n",
    "\n",
    "ax2.plot(history_df['accuracy'], label=\"Training Accuracy\")\n",
    "ax2.plot(history_df['val_accuracy'], label=\"Validation Accuracy\")\n",
    "ax2.legend()\n",
    "\n",
    "plt.show()"
   ]
  },
  {
   "cell_type": "code",
   "execution_count": 70,
   "id": "b98d46e3",
   "metadata": {},
   "outputs": [
    {
     "name": "stdout",
     "output_type": "stream",
     "text": [
      "[9.2194366e-14 2.1096520e-11 9.4774640e-11 4.9777111e-09 1.0687975e-11\n",
      " 5.7739588e-13 4.1420828e-17 1.0000000e+00 2.7993803e-11 9.8964870e-10]\n",
      "7\n",
      "F1 Score: 0.9914699493006003\n"
     ]
    }
   ],
   "source": [
    "y_predict = model.predict(x_test)\n",
    "\n",
    "# Let's take a look at y_predict\n",
    "print(y_predict[0])\n",
    "\n",
    "# Argmax along the rows\n",
    "y_predict = np.argmax(y_predict, axis=1)\n",
    "y_test = np.argmax(y_test, axis=1)\n",
    "\n",
    "print(y_predict[0])\n",
    "# Here we use mean absolute error to get an intepretable value.\n",
    "print(\"F1 Score:\", f1_score(y_predict, y_test, average='macro'))"
   ]
  },
  {
   "cell_type": "code",
   "execution_count": 71,
   "id": "09b8aee6",
   "metadata": {},
   "outputs": [
    {
     "data": {
      "image/png": "[encoded data removed]",
      "text/plain": [
       "<Figure size 432x288 with 1 Axes>"
      ]
     },
     "metadata": {
      "needs_background": "light"
     },
     "output_type": "display_data"
    }
   ],
   "source": [
    "#Take in my test image from outside\n",
    "import matplotlib.image as mpimg\n",
    "img = mpimg.imread('my_image_vs.png')\n",
    "imgplot = plt.imshow(img)\n",
    "plt.show()"
   ]
  },
  {
   "cell_type": "code",
   "execution_count": 79,
   "id": "79ecdba4",
   "metadata": {},
   "outputs": [
    {
     "name": "stdout",
     "output_type": "stream",
     "text": [
      "3\n"
     ]
    }
   ],
   "source": [
    "#Try the predictor\n",
    "import cv2\n",
    "import numpy as np\n",
    "img = cv2.imread(\"my_image_vs.png\",0)\n",
    "img = cv2.resize(img, (28, 28))\n",
    "img = np.reshape(img, [1, 28, 28, 1])\n",
    "print(np.argmax(model.predict(img)))"
   ]
  },
  {
   "cell_type": "code",
   "execution_count": null,
   "id": "791e7a14",
   "metadata": {},
   "outputs": [],
   "source": [
    "#I thought it was a 6"
   ]
  }
 ],
 "metadata": {
  "kernelspec": {
   "display_name": "Python 3",
   "language": "python",
   "name": "python3"
  },
  "language_info": {
   "codemirror_mode": {
    "name": "ipython",
    "version": 3
   },
   "file_extension": ".py",
   "mimetype": "text/x-python",
   "name": "python",
   "nbconvert_exporter": "python",
   "pygments_lexer": "ipython3",
   "version": "3.8.10"
  }
 },
 "nbformat": 4,
 "nbformat_minor": 5
}
